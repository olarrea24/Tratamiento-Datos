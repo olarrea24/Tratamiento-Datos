{
  "cells": [
    {
      "cell_type": "markdown",
      "metadata": {
        "id": "view-in-github",
        "colab_type": "text"
      },
      "source": [
        "<a href=\"https://colab.research.google.com/github/olarrea24/Tratamiento-Datos/blob/main/lessons/01_preprocessing.ipynb\" target=\"_parent\"><img src=\"https://colab.research.google.com/assets/colab-badge.svg\" alt=\"Open In Colab\"/></a>"
      ]
    },
    {
      "cell_type": "markdown",
      "source": [
        "*Después de copiar el repositorio al Drive, se monta todo el contenido al colab*"
      ],
      "metadata": {
        "id": "lBxUK5iqBVKn"
      },
      "id": "lBxUK5iqBVKn"
    },
    {
      "cell_type": "code",
      "source": [
        "from google.colab import drive\n",
        "drive.mount('/content/drive')"
      ],
      "metadata": {
        "colab": {
          "base_uri": "https://localhost:8080/"
        },
        "id": "dBu7ck-rwGlU",
        "outputId": "4021db62-f447-4324-fc46-62f4751381e8"
      },
      "id": "dBu7ck-rwGlU",
      "execution_count": 1,
      "outputs": [
        {
          "output_type": "stream",
          "name": "stdout",
          "text": [
            "Mounted at /content/drive\n"
          ]
        }
      ]
    },
    {
      "cell_type": "markdown",
      "id": "d3e7ea21-6437-48e8-a9e4-3bdc05f709c9",
      "metadata": {
        "id": "d3e7ea21-6437-48e8-a9e4-3bdc05f709c9"
      },
      "source": [
        "# Python Text Analysis: Preprocessing\n",
        "\n",
        "* * *\n",
        "\n",
        "<div class=\"alert alert-success\">  \n",
        "    \n",
        "### Learning Objectives\n",
        "    \n",
        "* Learn common steps for preprocessing text data, as well as specific operations for preprocessing Twitter data.\n",
        "* Know commonly used NLP packages and what they are capable of.\n",
        "* Understand tokenizers, and how they have changed since the advent of Large Language Models.\n",
        "</div>\n",
        "\n",
        "### Icons Used in This Notebook\n",
        "🔔 **Question**: A quick question to help you understand what's going on.<br>\n",
        "🥊 **Challenge**: Interactive excersise. We'll work through these in the workshop!<br>\n",
        "⚠️ **Warning:** Heads-up about tricky stuff or common mistakes.<br>\n",
        "🎬 **Demo**: Showing off something more advanced – so you know what Python can be used for!<br>\n",
        "\n",
        "### Sections\n",
        "1. [Preprocessing](#section1)\n",
        "2. [Tokenization](#section2)\n",
        "\n",
        "In this three-part workshop series, we'll learn the building blocks for performing text analysis in Python. These techniques lie in the domain of Natural Language Processing (NLP). NLP is a field that deals with identifying and extracting patterns of language, primarily in written texts. Throughout the workshop series, we'll interact with various packages for performing text analysis: starting from simple string methods to specific NLP packages, such as `nltk`, `spaCy`, and more recent ones on Large Language Models (`BERT`).\n",
        "\n",
        "Now, let's have these packages properly installed before diving into the materials."
      ]
    },
    {
      "cell_type": "markdown",
      "source": [
        "\n",
        "\n",
        "---\n",
        "\n"
      ],
      "metadata": {
        "id": "iY8mvddJryNm"
      },
      "id": "iY8mvddJryNm"
    },
    {
      "cell_type": "markdown",
      "source": [
        "*Instalación de paquetes: NLTK se usa para tareas básicas de NLP como tokenización, stopwords, stemming; Transformers se usa para modelos modernos como BERT o GPT; y spaCy es una librería rápida para análisis lingüístico de tokenización, lematización, dependencias. Al  final se descarga el modelo en inglés pequeño de spaCy para análisis de texto.*"
      ],
      "metadata": {
        "id": "aq6BHqmqtVbW"
      },
      "id": "aq6BHqmqtVbW"
    },
    {
      "cell_type": "code",
      "execution_count": 2,
      "id": "d442e4c7-e926-493d-a64e-516616ad915a",
      "metadata": {
        "colab": {
          "base_uri": "https://localhost:8080/"
        },
        "id": "d442e4c7-e926-493d-a64e-516616ad915a",
        "outputId": "b95d1254-7fe7-4c22-b83e-b330fa128598"
      },
      "outputs": [
        {
          "output_type": "stream",
          "name": "stdout",
          "text": [
            "Requirement already satisfied: NLTK in /usr/local/lib/python3.12/dist-packages (3.9.1)\n",
            "Requirement already satisfied: click in /usr/local/lib/python3.12/dist-packages (from NLTK) (8.2.1)\n",
            "Requirement already satisfied: joblib in /usr/local/lib/python3.12/dist-packages (from NLTK) (1.5.1)\n",
            "Requirement already satisfied: regex>=2021.8.3 in /usr/local/lib/python3.12/dist-packages (from NLTK) (2024.11.6)\n",
            "Requirement already satisfied: tqdm in /usr/local/lib/python3.12/dist-packages (from NLTK) (4.67.1)\n",
            "Requirement already satisfied: transformers in /usr/local/lib/python3.12/dist-packages (4.55.2)\n",
            "Requirement already satisfied: filelock in /usr/local/lib/python3.12/dist-packages (from transformers) (3.19.1)\n",
            "Requirement already satisfied: huggingface-hub<1.0,>=0.34.0 in /usr/local/lib/python3.12/dist-packages (from transformers) (0.34.4)\n",
            "Requirement already satisfied: numpy>=1.17 in /usr/local/lib/python3.12/dist-packages (from transformers) (2.0.2)\n",
            "Requirement already satisfied: packaging>=20.0 in /usr/local/lib/python3.12/dist-packages (from transformers) (25.0)\n",
            "Requirement already satisfied: pyyaml>=5.1 in /usr/local/lib/python3.12/dist-packages (from transformers) (6.0.2)\n",
            "Requirement already satisfied: regex!=2019.12.17 in /usr/local/lib/python3.12/dist-packages (from transformers) (2024.11.6)\n",
            "Requirement already satisfied: requests in /usr/local/lib/python3.12/dist-packages (from transformers) (2.32.4)\n",
            "Requirement already satisfied: tokenizers<0.22,>=0.21 in /usr/local/lib/python3.12/dist-packages (from transformers) (0.21.4)\n",
            "Requirement already satisfied: safetensors>=0.4.3 in /usr/local/lib/python3.12/dist-packages (from transformers) (0.6.2)\n",
            "Requirement already satisfied: tqdm>=4.27 in /usr/local/lib/python3.12/dist-packages (from transformers) (4.67.1)\n",
            "Requirement already satisfied: fsspec>=2023.5.0 in /usr/local/lib/python3.12/dist-packages (from huggingface-hub<1.0,>=0.34.0->transformers) (2025.3.0)\n",
            "Requirement already satisfied: typing-extensions>=3.7.4.3 in /usr/local/lib/python3.12/dist-packages (from huggingface-hub<1.0,>=0.34.0->transformers) (4.14.1)\n",
            "Requirement already satisfied: hf-xet<2.0.0,>=1.1.3 in /usr/local/lib/python3.12/dist-packages (from huggingface-hub<1.0,>=0.34.0->transformers) (1.1.7)\n",
            "Requirement already satisfied: charset_normalizer<4,>=2 in /usr/local/lib/python3.12/dist-packages (from requests->transformers) (3.4.3)\n",
            "Requirement already satisfied: idna<4,>=2.5 in /usr/local/lib/python3.12/dist-packages (from requests->transformers) (3.10)\n",
            "Requirement already satisfied: urllib3<3,>=1.21.1 in /usr/local/lib/python3.12/dist-packages (from requests->transformers) (2.5.0)\n",
            "Requirement already satisfied: certifi>=2017.4.17 in /usr/local/lib/python3.12/dist-packages (from requests->transformers) (2025.8.3)\n",
            "Requirement already satisfied: spaCy in /usr/local/lib/python3.12/dist-packages (3.8.7)\n",
            "Requirement already satisfied: spacy-legacy<3.1.0,>=3.0.11 in /usr/local/lib/python3.12/dist-packages (from spaCy) (3.0.12)\n",
            "Requirement already satisfied: spacy-loggers<2.0.0,>=1.0.0 in /usr/local/lib/python3.12/dist-packages (from spaCy) (1.0.5)\n",
            "Requirement already satisfied: murmurhash<1.1.0,>=0.28.0 in /usr/local/lib/python3.12/dist-packages (from spaCy) (1.0.13)\n",
            "Requirement already satisfied: cymem<2.1.0,>=2.0.2 in /usr/local/lib/python3.12/dist-packages (from spaCy) (2.0.11)\n",
            "Requirement already satisfied: preshed<3.1.0,>=3.0.2 in /usr/local/lib/python3.12/dist-packages (from spaCy) (3.0.10)\n",
            "Requirement already satisfied: thinc<8.4.0,>=8.3.4 in /usr/local/lib/python3.12/dist-packages (from spaCy) (8.3.6)\n",
            "Requirement already satisfied: wasabi<1.2.0,>=0.9.1 in /usr/local/lib/python3.12/dist-packages (from spaCy) (1.1.3)\n",
            "Requirement already satisfied: srsly<3.0.0,>=2.4.3 in /usr/local/lib/python3.12/dist-packages (from spaCy) (2.5.1)\n",
            "Requirement already satisfied: catalogue<2.1.0,>=2.0.6 in /usr/local/lib/python3.12/dist-packages (from spaCy) (2.0.10)\n",
            "Requirement already satisfied: weasel<0.5.0,>=0.1.0 in /usr/local/lib/python3.12/dist-packages (from spaCy) (0.4.1)\n",
            "Requirement already satisfied: typer<1.0.0,>=0.3.0 in /usr/local/lib/python3.12/dist-packages (from spaCy) (0.16.0)\n",
            "Requirement already satisfied: tqdm<5.0.0,>=4.38.0 in /usr/local/lib/python3.12/dist-packages (from spaCy) (4.67.1)\n",
            "Requirement already satisfied: numpy>=1.19.0 in /usr/local/lib/python3.12/dist-packages (from spaCy) (2.0.2)\n",
            "Requirement already satisfied: requests<3.0.0,>=2.13.0 in /usr/local/lib/python3.12/dist-packages (from spaCy) (2.32.4)\n",
            "Requirement already satisfied: pydantic!=1.8,!=1.8.1,<3.0.0,>=1.7.4 in /usr/local/lib/python3.12/dist-packages (from spaCy) (2.11.7)\n",
            "Requirement already satisfied: jinja2 in /usr/local/lib/python3.12/dist-packages (from spaCy) (3.1.6)\n",
            "Requirement already satisfied: setuptools in /usr/local/lib/python3.12/dist-packages (from spaCy) (75.2.0)\n",
            "Requirement already satisfied: packaging>=20.0 in /usr/local/lib/python3.12/dist-packages (from spaCy) (25.0)\n",
            "Requirement already satisfied: langcodes<4.0.0,>=3.2.0 in /usr/local/lib/python3.12/dist-packages (from spaCy) (3.5.0)\n",
            "Requirement already satisfied: language-data>=1.2 in /usr/local/lib/python3.12/dist-packages (from langcodes<4.0.0,>=3.2.0->spaCy) (1.3.0)\n",
            "Requirement already satisfied: annotated-types>=0.6.0 in /usr/local/lib/python3.12/dist-packages (from pydantic!=1.8,!=1.8.1,<3.0.0,>=1.7.4->spaCy) (0.7.0)\n",
            "Requirement already satisfied: pydantic-core==2.33.2 in /usr/local/lib/python3.12/dist-packages (from pydantic!=1.8,!=1.8.1,<3.0.0,>=1.7.4->spaCy) (2.33.2)\n",
            "Requirement already satisfied: typing-extensions>=4.12.2 in /usr/local/lib/python3.12/dist-packages (from pydantic!=1.8,!=1.8.1,<3.0.0,>=1.7.4->spaCy) (4.14.1)\n",
            "Requirement already satisfied: typing-inspection>=0.4.0 in /usr/local/lib/python3.12/dist-packages (from pydantic!=1.8,!=1.8.1,<3.0.0,>=1.7.4->spaCy) (0.4.1)\n",
            "Requirement already satisfied: charset_normalizer<4,>=2 in /usr/local/lib/python3.12/dist-packages (from requests<3.0.0,>=2.13.0->spaCy) (3.4.3)\n",
            "Requirement already satisfied: idna<4,>=2.5 in /usr/local/lib/python3.12/dist-packages (from requests<3.0.0,>=2.13.0->spaCy) (3.10)\n",
            "Requirement already satisfied: urllib3<3,>=1.21.1 in /usr/local/lib/python3.12/dist-packages (from requests<3.0.0,>=2.13.0->spaCy) (2.5.0)\n",
            "Requirement already satisfied: certifi>=2017.4.17 in /usr/local/lib/python3.12/dist-packages (from requests<3.0.0,>=2.13.0->spaCy) (2025.8.3)\n",
            "Requirement already satisfied: blis<1.4.0,>=1.3.0 in /usr/local/lib/python3.12/dist-packages (from thinc<8.4.0,>=8.3.4->spaCy) (1.3.0)\n",
            "Requirement already satisfied: confection<1.0.0,>=0.0.1 in /usr/local/lib/python3.12/dist-packages (from thinc<8.4.0,>=8.3.4->spaCy) (0.1.5)\n",
            "Requirement already satisfied: click>=8.0.0 in /usr/local/lib/python3.12/dist-packages (from typer<1.0.0,>=0.3.0->spaCy) (8.2.1)\n",
            "Requirement already satisfied: shellingham>=1.3.0 in /usr/local/lib/python3.12/dist-packages (from typer<1.0.0,>=0.3.0->spaCy) (1.5.4)\n",
            "Requirement already satisfied: rich>=10.11.0 in /usr/local/lib/python3.12/dist-packages (from typer<1.0.0,>=0.3.0->spaCy) (13.9.4)\n",
            "Requirement already satisfied: cloudpathlib<1.0.0,>=0.7.0 in /usr/local/lib/python3.12/dist-packages (from weasel<0.5.0,>=0.1.0->spaCy) (0.21.1)\n",
            "Requirement already satisfied: smart-open<8.0.0,>=5.2.1 in /usr/local/lib/python3.12/dist-packages (from weasel<0.5.0,>=0.1.0->spaCy) (7.3.0.post1)\n",
            "Requirement already satisfied: MarkupSafe>=2.0 in /usr/local/lib/python3.12/dist-packages (from jinja2->spaCy) (3.0.2)\n",
            "Requirement already satisfied: marisa-trie>=1.1.0 in /usr/local/lib/python3.12/dist-packages (from language-data>=1.2->langcodes<4.0.0,>=3.2.0->spaCy) (1.3.0)\n",
            "Requirement already satisfied: markdown-it-py>=2.2.0 in /usr/local/lib/python3.12/dist-packages (from rich>=10.11.0->typer<1.0.0,>=0.3.0->spaCy) (4.0.0)\n",
            "Requirement already satisfied: pygments<3.0.0,>=2.13.0 in /usr/local/lib/python3.12/dist-packages (from rich>=10.11.0->typer<1.0.0,>=0.3.0->spaCy) (2.19.2)\n",
            "Requirement already satisfied: wrapt in /usr/local/lib/python3.12/dist-packages (from smart-open<8.0.0,>=5.2.1->weasel<0.5.0,>=0.1.0->spaCy) (1.17.3)\n",
            "Requirement already satisfied: mdurl~=0.1 in /usr/local/lib/python3.12/dist-packages (from markdown-it-py>=2.2.0->rich>=10.11.0->typer<1.0.0,>=0.3.0->spaCy) (0.1.2)\n",
            "Collecting en-core-web-sm==3.8.0\n",
            "  Downloading https://github.com/explosion/spacy-models/releases/download/en_core_web_sm-3.8.0/en_core_web_sm-3.8.0-py3-none-any.whl (12.8 MB)\n",
            "\u001b[2K     \u001b[90m━━━━━━━━━━━━━━━━━━━━━━━━━━━━━━━━━━━━━━━━\u001b[0m \u001b[32m12.8/12.8 MB\u001b[0m \u001b[31m77.8 MB/s\u001b[0m eta \u001b[36m0:00:00\u001b[0m\n",
            "\u001b[?25h\u001b[38;5;2m✔ Download and installation successful\u001b[0m\n",
            "You can now load the package via spacy.load('en_core_web_sm')\n",
            "\u001b[38;5;3m⚠ Restart to reload dependencies\u001b[0m\n",
            "If you are in a Jupyter or Colab notebook, you may need to restart Python in\n",
            "order to load all the package's dependencies. You can do this by selecting the\n",
            "'Restart kernel' or 'Restart runtime' option.\n"
          ]
        }
      ],
      "source": [
        "# Uncomment the following lines to install packages/model\n",
        "%pip install NLTK\n",
        "%pip install transformers\n",
        "%pip install spaCy\n",
        "!python -m spacy download en_core_web_sm"
      ]
    },
    {
      "cell_type": "markdown",
      "source": [],
      "metadata": {
        "id": "MCvlX0yQrdOW"
      },
      "id": "MCvlX0yQrdOW"
    },
    {
      "cell_type": "markdown",
      "id": "df5b8f8e-4e69-426e-a202-ec48b325e89a",
      "metadata": {
        "id": "df5b8f8e-4e69-426e-a202-ec48b325e89a"
      },
      "source": [
        "<a id='section1'></a>\n",
        "\n",
        "# Preprocessing\n",
        "\n",
        "In Part 1 of this workshop, we'll address the first step of text analysis. Our goal is to convert the raw, messy text data into a consistent format. This process is often called **preprocessing**, **text cleaning**, or **text normalization**.\n",
        "\n",
        "You'll notice that at the end of preprocessing, our data is still in a format that we can read and understand. In Parts 2 and 3, we will begin our foray into converting the text data into a numerical representation—a format that can be more readily handled by computers.\n",
        "\n",
        "🔔 **Question**: Let's pause for a minute to reflect on **your** previous experiences working on text data.\n",
        "- What is the format of the text data you have interacted with (plain text, CSV, or XML)?\n",
        "- Where does it come from (structured corpus, scraped from the web, survey data)?\n",
        "- Is it messy (i.e., is the data formatted consistently)?"
      ]
    },
    {
      "cell_type": "markdown",
      "source": [
        "*1- Plain text, CSV 2- Structured corpus, survey data 3- mayormente con formato*"
      ],
      "metadata": {
        "id": "6lI89HI7vFt8"
      },
      "id": "6lI89HI7vFt8"
    },
    {
      "cell_type": "markdown",
      "id": "4b35911a-3b3f-4a48-a7d1-9882aab04851",
      "metadata": {
        "id": "4b35911a-3b3f-4a48-a7d1-9882aab04851"
      },
      "source": [
        "## Common Processes\n",
        "\n",
        "Preprocessing is not something we can accomplish with a single line of code. We often start by familiarizing ourselves with the data, and along the way, we gain a clearer understanding of the granularity of preprocessing we want to apply.\n",
        "\n",
        "Typically, we begin by applying a set of commonly used processes to clean the data. These operations don't substantially alter the form or meaning of the data; they serve as a standardized procedure to reshape the data into a consistent format.\n",
        "\n",
        "The following processes, for examples, are commonly applied to preprocess English texts of various genres. These operations can be done using built-in Python functions, such as `string` methods, and Regular Expressions.\n",
        "- Lowercase the text\n",
        "- Remove punctuation marks\n",
        "- Remove extra whitespace characters\n",
        "- Remove stop words\n",
        "\n",
        "After the initial processing, we may choose to perform task-specific processes, the specifics of which often depend on the downstream task we want to perform and the nature of the text data (i.e., its stylistic and linguistic features).  \n",
        "\n",
        "Before we jump into these operations, let's take a look at our data!"
      ]
    },
    {
      "cell_type": "markdown",
      "id": "ec5d7350-9a1e-4db9-b828-a87fe1676d8d",
      "metadata": {
        "id": "ec5d7350-9a1e-4db9-b828-a87fe1676d8d"
      },
      "source": [
        "### Import the Text Data\n",
        "\n",
        "The text data we'll be working with is a CSV file. It contains tweets about U.S. airlines, scrapped from Feb 2015.\n",
        "\n",
        "Let's read the file `airline_tweets.csv` into dataframe with `pandas`."
      ]
    },
    {
      "cell_type": "markdown",
      "source": [
        "Se importa la librería pandas, se especifica la ruta donse se encuentra el archivo airline_tweets.csv, y se crea un dataframe del archivo mencionado"
      ],
      "metadata": {
        "id": "Pvb7aejrCOD1"
      },
      "id": "Pvb7aejrCOD1"
    },
    {
      "cell_type": "code",
      "execution_count": 3,
      "id": "3d1ff64b-53ad-4eca-b846-3fda20085c43",
      "metadata": {
        "id": "3d1ff64b-53ad-4eca-b846-3fda20085c43"
      },
      "outputs": [],
      "source": [
        "# Import pandas\n",
        "import pandas as pd\n",
        "\n",
        "# File path to data\n",
        "csv_path = '/content/drive/MyDrive/Clase 2 - Tratamiento de Datos/Python-NLP-Fundamentals-main/data/airline_tweets.csv'\n",
        "\n",
        "# Specify the separator\n",
        "tweets = pd.read_csv(csv_path, sep=',')"
      ]
    },
    {
      "cell_type": "markdown",
      "source": [
        "Se muestran las 5 primeras líneas del dataframe"
      ],
      "metadata": {
        "id": "RgRaoporDcaA"
      },
      "id": "RgRaoporDcaA"
    },
    {
      "cell_type": "code",
      "execution_count": 4,
      "id": "e397ac6a-c2ba-4cce-8700-b36b38026c9d",
      "metadata": {
        "id": "e397ac6a-c2ba-4cce-8700-b36b38026c9d",
        "colab": {
          "base_uri": "https://localhost:8080/",
          "height": 452
        },
        "outputId": "3976cd8c-e95c-4583-bd81-06d1b59d679b"
      },
      "outputs": [
        {
          "output_type": "execute_result",
          "data": {
            "text/plain": [
              "             tweet_id airline_sentiment  airline_sentiment_confidence  \\\n",
              "0  570306133677760513           neutral                        1.0000   \n",
              "1  570301130888122368          positive                        0.3486   \n",
              "2  570301083672813571           neutral                        0.6837   \n",
              "3  570301031407624196          negative                        1.0000   \n",
              "4  570300817074462722          negative                        1.0000   \n",
              "\n",
              "  negativereason  negativereason_confidence         airline  \\\n",
              "0            NaN                        NaN  Virgin America   \n",
              "1            NaN                     0.0000  Virgin America   \n",
              "2            NaN                        NaN  Virgin America   \n",
              "3     Bad Flight                     0.7033  Virgin America   \n",
              "4     Can't Tell                     1.0000  Virgin America   \n",
              "\n",
              "  airline_sentiment_gold        name negativereason_gold  retweet_count  \\\n",
              "0                    NaN     cairdin                 NaN              0   \n",
              "1                    NaN    jnardino                 NaN              0   \n",
              "2                    NaN  yvonnalynn                 NaN              0   \n",
              "3                    NaN    jnardino                 NaN              0   \n",
              "4                    NaN    jnardino                 NaN              0   \n",
              "\n",
              "                                                text tweet_coord  \\\n",
              "0                @VirginAmerica What @dhepburn said.         NaN   \n",
              "1  @VirginAmerica plus you've added commercials t...         NaN   \n",
              "2  @VirginAmerica I didn't today... Must mean I n...         NaN   \n",
              "3  @VirginAmerica it's really aggressive to blast...         NaN   \n",
              "4  @VirginAmerica and it's a really big bad thing...         NaN   \n",
              "\n",
              "               tweet_created tweet_location               user_timezone  \n",
              "0  2015-02-24 11:35:52 -0800            NaN  Eastern Time (US & Canada)  \n",
              "1  2015-02-24 11:15:59 -0800            NaN  Pacific Time (US & Canada)  \n",
              "2  2015-02-24 11:15:48 -0800      Lets Play  Central Time (US & Canada)  \n",
              "3  2015-02-24 11:15:36 -0800            NaN  Pacific Time (US & Canada)  \n",
              "4  2015-02-24 11:14:45 -0800            NaN  Pacific Time (US & Canada)  "
            ],
            "text/html": [
              "\n",
              "  <div id=\"df-fe9e20a4-426d-4c1c-9457-b05d63a3fdb7\" class=\"colab-df-container\">\n",
              "    <div>\n",
              "<style scoped>\n",
              "    .dataframe tbody tr th:only-of-type {\n",
              "        vertical-align: middle;\n",
              "    }\n",
              "\n",
              "    .dataframe tbody tr th {\n",
              "        vertical-align: top;\n",
              "    }\n",
              "\n",
              "    .dataframe thead th {\n",
              "        text-align: right;\n",
              "    }\n",
              "</style>\n",
              "<table border=\"1\" class=\"dataframe\">\n",
              "  <thead>\n",
              "    <tr style=\"text-align: right;\">\n",
              "      <th></th>\n",
              "      <th>tweet_id</th>\n",
              "      <th>airline_sentiment</th>\n",
              "      <th>airline_sentiment_confidence</th>\n",
              "      <th>negativereason</th>\n",
              "      <th>negativereason_confidence</th>\n",
              "      <th>airline</th>\n",
              "      <th>airline_sentiment_gold</th>\n",
              "      <th>name</th>\n",
              "      <th>negativereason_gold</th>\n",
              "      <th>retweet_count</th>\n",
              "      <th>text</th>\n",
              "      <th>tweet_coord</th>\n",
              "      <th>tweet_created</th>\n",
              "      <th>tweet_location</th>\n",
              "      <th>user_timezone</th>\n",
              "    </tr>\n",
              "  </thead>\n",
              "  <tbody>\n",
              "    <tr>\n",
              "      <th>0</th>\n",
              "      <td>570306133677760513</td>\n",
              "      <td>neutral</td>\n",
              "      <td>1.0000</td>\n",
              "      <td>NaN</td>\n",
              "      <td>NaN</td>\n",
              "      <td>Virgin America</td>\n",
              "      <td>NaN</td>\n",
              "      <td>cairdin</td>\n",
              "      <td>NaN</td>\n",
              "      <td>0</td>\n",
              "      <td>@VirginAmerica What @dhepburn said.</td>\n",
              "      <td>NaN</td>\n",
              "      <td>2015-02-24 11:35:52 -0800</td>\n",
              "      <td>NaN</td>\n",
              "      <td>Eastern Time (US &amp; Canada)</td>\n",
              "    </tr>\n",
              "    <tr>\n",
              "      <th>1</th>\n",
              "      <td>570301130888122368</td>\n",
              "      <td>positive</td>\n",
              "      <td>0.3486</td>\n",
              "      <td>NaN</td>\n",
              "      <td>0.0000</td>\n",
              "      <td>Virgin America</td>\n",
              "      <td>NaN</td>\n",
              "      <td>jnardino</td>\n",
              "      <td>NaN</td>\n",
              "      <td>0</td>\n",
              "      <td>@VirginAmerica plus you've added commercials t...</td>\n",
              "      <td>NaN</td>\n",
              "      <td>2015-02-24 11:15:59 -0800</td>\n",
              "      <td>NaN</td>\n",
              "      <td>Pacific Time (US &amp; Canada)</td>\n",
              "    </tr>\n",
              "    <tr>\n",
              "      <th>2</th>\n",
              "      <td>570301083672813571</td>\n",
              "      <td>neutral</td>\n",
              "      <td>0.6837</td>\n",
              "      <td>NaN</td>\n",
              "      <td>NaN</td>\n",
              "      <td>Virgin America</td>\n",
              "      <td>NaN</td>\n",
              "      <td>yvonnalynn</td>\n",
              "      <td>NaN</td>\n",
              "      <td>0</td>\n",
              "      <td>@VirginAmerica I didn't today... Must mean I n...</td>\n",
              "      <td>NaN</td>\n",
              "      <td>2015-02-24 11:15:48 -0800</td>\n",
              "      <td>Lets Play</td>\n",
              "      <td>Central Time (US &amp; Canada)</td>\n",
              "    </tr>\n",
              "    <tr>\n",
              "      <th>3</th>\n",
              "      <td>570301031407624196</td>\n",
              "      <td>negative</td>\n",
              "      <td>1.0000</td>\n",
              "      <td>Bad Flight</td>\n",
              "      <td>0.7033</td>\n",
              "      <td>Virgin America</td>\n",
              "      <td>NaN</td>\n",
              "      <td>jnardino</td>\n",
              "      <td>NaN</td>\n",
              "      <td>0</td>\n",
              "      <td>@VirginAmerica it's really aggressive to blast...</td>\n",
              "      <td>NaN</td>\n",
              "      <td>2015-02-24 11:15:36 -0800</td>\n",
              "      <td>NaN</td>\n",
              "      <td>Pacific Time (US &amp; Canada)</td>\n",
              "    </tr>\n",
              "    <tr>\n",
              "      <th>4</th>\n",
              "      <td>570300817074462722</td>\n",
              "      <td>negative</td>\n",
              "      <td>1.0000</td>\n",
              "      <td>Can't Tell</td>\n",
              "      <td>1.0000</td>\n",
              "      <td>Virgin America</td>\n",
              "      <td>NaN</td>\n",
              "      <td>jnardino</td>\n",
              "      <td>NaN</td>\n",
              "      <td>0</td>\n",
              "      <td>@VirginAmerica and it's a really big bad thing...</td>\n",
              "      <td>NaN</td>\n",
              "      <td>2015-02-24 11:14:45 -0800</td>\n",
              "      <td>NaN</td>\n",
              "      <td>Pacific Time (US &amp; Canada)</td>\n",
              "    </tr>\n",
              "  </tbody>\n",
              "</table>\n",
              "</div>\n",
              "    <div class=\"colab-df-buttons\">\n",
              "\n",
              "  <div class=\"colab-df-container\">\n",
              "    <button class=\"colab-df-convert\" onclick=\"convertToInteractive('df-fe9e20a4-426d-4c1c-9457-b05d63a3fdb7')\"\n",
              "            title=\"Convert this dataframe to an interactive table.\"\n",
              "            style=\"display:none;\">\n",
              "\n",
              "  <svg xmlns=\"http://www.w3.org/2000/svg\" height=\"24px\" viewBox=\"0 -960 960 960\">\n",
              "    <path d=\"M120-120v-720h720v720H120Zm60-500h600v-160H180v160Zm220 220h160v-160H400v160Zm0 220h160v-160H400v160ZM180-400h160v-160H180v160Zm440 0h160v-160H620v160ZM180-180h160v-160H180v160Zm440 0h160v-160H620v160Z\"/>\n",
              "  </svg>\n",
              "    </button>\n",
              "\n",
              "  <style>\n",
              "    .colab-df-container {\n",
              "      display:flex;\n",
              "      gap: 12px;\n",
              "    }\n",
              "\n",
              "    .colab-df-convert {\n",
              "      background-color: #E8F0FE;\n",
              "      border: none;\n",
              "      border-radius: 50%;\n",
              "      cursor: pointer;\n",
              "      display: none;\n",
              "      fill: #1967D2;\n",
              "      height: 32px;\n",
              "      padding: 0 0 0 0;\n",
              "      width: 32px;\n",
              "    }\n",
              "\n",
              "    .colab-df-convert:hover {\n",
              "      background-color: #E2EBFA;\n",
              "      box-shadow: 0px 1px 2px rgba(60, 64, 67, 0.3), 0px 1px 3px 1px rgba(60, 64, 67, 0.15);\n",
              "      fill: #174EA6;\n",
              "    }\n",
              "\n",
              "    .colab-df-buttons div {\n",
              "      margin-bottom: 4px;\n",
              "    }\n",
              "\n",
              "    [theme=dark] .colab-df-convert {\n",
              "      background-color: #3B4455;\n",
              "      fill: #D2E3FC;\n",
              "    }\n",
              "\n",
              "    [theme=dark] .colab-df-convert:hover {\n",
              "      background-color: #434B5C;\n",
              "      box-shadow: 0px 1px 3px 1px rgba(0, 0, 0, 0.15);\n",
              "      filter: drop-shadow(0px 1px 2px rgba(0, 0, 0, 0.3));\n",
              "      fill: #FFFFFF;\n",
              "    }\n",
              "  </style>\n",
              "\n",
              "    <script>\n",
              "      const buttonEl =\n",
              "        document.querySelector('#df-fe9e20a4-426d-4c1c-9457-b05d63a3fdb7 button.colab-df-convert');\n",
              "      buttonEl.style.display =\n",
              "        google.colab.kernel.accessAllowed ? 'block' : 'none';\n",
              "\n",
              "      async function convertToInteractive(key) {\n",
              "        const element = document.querySelector('#df-fe9e20a4-426d-4c1c-9457-b05d63a3fdb7');\n",
              "        const dataTable =\n",
              "          await google.colab.kernel.invokeFunction('convertToInteractive',\n",
              "                                                    [key], {});\n",
              "        if (!dataTable) return;\n",
              "\n",
              "        const docLinkHtml = 'Like what you see? Visit the ' +\n",
              "          '<a target=\"_blank\" href=https://colab.research.google.com/notebooks/data_table.ipynb>data table notebook</a>'\n",
              "          + ' to learn more about interactive tables.';\n",
              "        element.innerHTML = '';\n",
              "        dataTable['output_type'] = 'display_data';\n",
              "        await google.colab.output.renderOutput(dataTable, element);\n",
              "        const docLink = document.createElement('div');\n",
              "        docLink.innerHTML = docLinkHtml;\n",
              "        element.appendChild(docLink);\n",
              "      }\n",
              "    </script>\n",
              "  </div>\n",
              "\n",
              "\n",
              "    <div id=\"df-2e1b7950-9ca9-441a-8c8a-094b1d244132\">\n",
              "      <button class=\"colab-df-quickchart\" onclick=\"quickchart('df-2e1b7950-9ca9-441a-8c8a-094b1d244132')\"\n",
              "                title=\"Suggest charts\"\n",
              "                style=\"display:none;\">\n",
              "\n",
              "<svg xmlns=\"http://www.w3.org/2000/svg\" height=\"24px\"viewBox=\"0 0 24 24\"\n",
              "     width=\"24px\">\n",
              "    <g>\n",
              "        <path d=\"M19 3H5c-1.1 0-2 .9-2 2v14c0 1.1.9 2 2 2h14c1.1 0 2-.9 2-2V5c0-1.1-.9-2-2-2zM9 17H7v-7h2v7zm4 0h-2V7h2v10zm4 0h-2v-4h2v4z\"/>\n",
              "    </g>\n",
              "</svg>\n",
              "      </button>\n",
              "\n",
              "<style>\n",
              "  .colab-df-quickchart {\n",
              "      --bg-color: #E8F0FE;\n",
              "      --fill-color: #1967D2;\n",
              "      --hover-bg-color: #E2EBFA;\n",
              "      --hover-fill-color: #174EA6;\n",
              "      --disabled-fill-color: #AAA;\n",
              "      --disabled-bg-color: #DDD;\n",
              "  }\n",
              "\n",
              "  [theme=dark] .colab-df-quickchart {\n",
              "      --bg-color: #3B4455;\n",
              "      --fill-color: #D2E3FC;\n",
              "      --hover-bg-color: #434B5C;\n",
              "      --hover-fill-color: #FFFFFF;\n",
              "      --disabled-bg-color: #3B4455;\n",
              "      --disabled-fill-color: #666;\n",
              "  }\n",
              "\n",
              "  .colab-df-quickchart {\n",
              "    background-color: var(--bg-color);\n",
              "    border: none;\n",
              "    border-radius: 50%;\n",
              "    cursor: pointer;\n",
              "    display: none;\n",
              "    fill: var(--fill-color);\n",
              "    height: 32px;\n",
              "    padding: 0;\n",
              "    width: 32px;\n",
              "  }\n",
              "\n",
              "  .colab-df-quickchart:hover {\n",
              "    background-color: var(--hover-bg-color);\n",
              "    box-shadow: 0 1px 2px rgba(60, 64, 67, 0.3), 0 1px 3px 1px rgba(60, 64, 67, 0.15);\n",
              "    fill: var(--button-hover-fill-color);\n",
              "  }\n",
              "\n",
              "  .colab-df-quickchart-complete:disabled,\n",
              "  .colab-df-quickchart-complete:disabled:hover {\n",
              "    background-color: var(--disabled-bg-color);\n",
              "    fill: var(--disabled-fill-color);\n",
              "    box-shadow: none;\n",
              "  }\n",
              "\n",
              "  .colab-df-spinner {\n",
              "    border: 2px solid var(--fill-color);\n",
              "    border-color: transparent;\n",
              "    border-bottom-color: var(--fill-color);\n",
              "    animation:\n",
              "      spin 1s steps(1) infinite;\n",
              "  }\n",
              "\n",
              "  @keyframes spin {\n",
              "    0% {\n",
              "      border-color: transparent;\n",
              "      border-bottom-color: var(--fill-color);\n",
              "      border-left-color: var(--fill-color);\n",
              "    }\n",
              "    20% {\n",
              "      border-color: transparent;\n",
              "      border-left-color: var(--fill-color);\n",
              "      border-top-color: var(--fill-color);\n",
              "    }\n",
              "    30% {\n",
              "      border-color: transparent;\n",
              "      border-left-color: var(--fill-color);\n",
              "      border-top-color: var(--fill-color);\n",
              "      border-right-color: var(--fill-color);\n",
              "    }\n",
              "    40% {\n",
              "      border-color: transparent;\n",
              "      border-right-color: var(--fill-color);\n",
              "      border-top-color: var(--fill-color);\n",
              "    }\n",
              "    60% {\n",
              "      border-color: transparent;\n",
              "      border-right-color: var(--fill-color);\n",
              "    }\n",
              "    80% {\n",
              "      border-color: transparent;\n",
              "      border-right-color: var(--fill-color);\n",
              "      border-bottom-color: var(--fill-color);\n",
              "    }\n",
              "    90% {\n",
              "      border-color: transparent;\n",
              "      border-bottom-color: var(--fill-color);\n",
              "    }\n",
              "  }\n",
              "</style>\n",
              "\n",
              "      <script>\n",
              "        async function quickchart(key) {\n",
              "          const quickchartButtonEl =\n",
              "            document.querySelector('#' + key + ' button');\n",
              "          quickchartButtonEl.disabled = true;  // To prevent multiple clicks.\n",
              "          quickchartButtonEl.classList.add('colab-df-spinner');\n",
              "          try {\n",
              "            const charts = await google.colab.kernel.invokeFunction(\n",
              "                'suggestCharts', [key], {});\n",
              "          } catch (error) {\n",
              "            console.error('Error during call to suggestCharts:', error);\n",
              "          }\n",
              "          quickchartButtonEl.classList.remove('colab-df-spinner');\n",
              "          quickchartButtonEl.classList.add('colab-df-quickchart-complete');\n",
              "        }\n",
              "        (() => {\n",
              "          let quickchartButtonEl =\n",
              "            document.querySelector('#df-2e1b7950-9ca9-441a-8c8a-094b1d244132 button');\n",
              "          quickchartButtonEl.style.display =\n",
              "            google.colab.kernel.accessAllowed ? 'block' : 'none';\n",
              "        })();\n",
              "      </script>\n",
              "    </div>\n",
              "\n",
              "    </div>\n",
              "  </div>\n"
            ],
            "application/vnd.google.colaboratory.intrinsic+json": {
              "type": "dataframe",
              "variable_name": "tweets",
              "summary": "{\n  \"name\": \"tweets\",\n  \"rows\": 14640,\n  \"fields\": [\n    {\n      \"column\": \"tweet_id\",\n      \"properties\": {\n        \"dtype\": \"number\",\n        \"std\": 779111158481836,\n        \"min\": 567588278875213824,\n        \"max\": 570310600460525568,\n        \"num_unique_values\": 14485,\n        \"samples\": [\n          567917894144770049,\n          567813976492417024,\n          569243676594941953\n        ],\n        \"semantic_type\": \"\",\n        \"description\": \"\"\n      }\n    },\n    {\n      \"column\": \"airline_sentiment\",\n      \"properties\": {\n        \"dtype\": \"category\",\n        \"num_unique_values\": 3,\n        \"samples\": [\n          \"neutral\",\n          \"positive\",\n          \"negative\"\n        ],\n        \"semantic_type\": \"\",\n        \"description\": \"\"\n      }\n    },\n    {\n      \"column\": \"airline_sentiment_confidence\",\n      \"properties\": {\n        \"dtype\": \"number\",\n        \"std\": 0.1628299590986659,\n        \"min\": 0.335,\n        \"max\": 1.0,\n        \"num_unique_values\": 1023,\n        \"samples\": [\n          0.6723,\n          0.3551,\n          0.6498\n        ],\n        \"semantic_type\": \"\",\n        \"description\": \"\"\n      }\n    },\n    {\n      \"column\": \"negativereason\",\n      \"properties\": {\n        \"dtype\": \"category\",\n        \"num_unique_values\": 10,\n        \"samples\": [\n          \"Damaged Luggage\",\n          \"Can't Tell\",\n          \"Lost Luggage\"\n        ],\n        \"semantic_type\": \"\",\n        \"description\": \"\"\n      }\n    },\n    {\n      \"column\": \"negativereason_confidence\",\n      \"properties\": {\n        \"dtype\": \"number\",\n        \"std\": 0.3304397596377413,\n        \"min\": 0.0,\n        \"max\": 1.0,\n        \"num_unique_values\": 1410,\n        \"samples\": [\n          0.6677,\n          0.6622,\n          0.6905\n        ],\n        \"semantic_type\": \"\",\n        \"description\": \"\"\n      }\n    },\n    {\n      \"column\": \"airline\",\n      \"properties\": {\n        \"dtype\": \"category\",\n        \"num_unique_values\": 6,\n        \"samples\": [\n          \"Virgin America\",\n          \"United\",\n          \"American\"\n        ],\n        \"semantic_type\": \"\",\n        \"description\": \"\"\n      }\n    },\n    {\n      \"column\": \"airline_sentiment_gold\",\n      \"properties\": {\n        \"dtype\": \"category\",\n        \"num_unique_values\": 3,\n        \"samples\": [\n          \"negative\",\n          \"neutral\",\n          \"positive\"\n        ],\n        \"semantic_type\": \"\",\n        \"description\": \"\"\n      }\n    },\n    {\n      \"column\": \"name\",\n      \"properties\": {\n        \"dtype\": \"string\",\n        \"num_unique_values\": 7701,\n        \"samples\": [\n          \"smckenna719\",\n          \"thisAnneM\",\n          \"jmspool\"\n        ],\n        \"semantic_type\": \"\",\n        \"description\": \"\"\n      }\n    },\n    {\n      \"column\": \"negativereason_gold\",\n      \"properties\": {\n        \"dtype\": \"category\",\n        \"num_unique_values\": 13,\n        \"samples\": [\n          \"Customer Service Issue\\nLost Luggage\",\n          \"Late Flight\\nCancelled Flight\",\n          \"Late Flight\\nFlight Attendant Complaints\"\n        ],\n        \"semantic_type\": \"\",\n        \"description\": \"\"\n      }\n    },\n    {\n      \"column\": \"retweet_count\",\n      \"properties\": {\n        \"dtype\": \"number\",\n        \"std\": 0,\n        \"min\": 0,\n        \"max\": 44,\n        \"num_unique_values\": 18,\n        \"samples\": [\n          0,\n          1,\n          6\n        ],\n        \"semantic_type\": \"\",\n        \"description\": \"\"\n      }\n    },\n    {\n      \"column\": \"text\",\n      \"properties\": {\n        \"dtype\": \"string\",\n        \"num_unique_values\": 14427,\n        \"samples\": [\n          \"@JetBlue so technically I could drive to JFK now and put in. Request for tomorrow's flight?\",\n          \"@united why I won't check my carry on. Watched a handler throw this bag -- miss the conveyer belt -- sat there 10 min http://t.co/lyoocx5mSH\",\n          \"@SouthwestAir you guys are so clever \\ud83d\\ude03 http://t.co/qn5odUGFqK\"\n        ],\n        \"semantic_type\": \"\",\n        \"description\": \"\"\n      }\n    },\n    {\n      \"column\": \"tweet_coord\",\n      \"properties\": {\n        \"dtype\": \"category\",\n        \"num_unique_values\": 832,\n        \"samples\": [\n          \"[40.04915451, -75.10364317]\",\n          \"[32.97609561, -96.53349238]\",\n          \"[26.37852293, -81.78472152]\"\n        ],\n        \"semantic_type\": \"\",\n        \"description\": \"\"\n      }\n    },\n    {\n      \"column\": \"tweet_created\",\n      \"properties\": {\n        \"dtype\": \"object\",\n        \"num_unique_values\": 14247,\n        \"samples\": [\n          \"2015-02-23 07:40:55 -0800\",\n          \"2015-02-21 16:20:09 -0800\",\n          \"2015-02-21 21:33:21 -0800\"\n        ],\n        \"semantic_type\": \"\",\n        \"description\": \"\"\n      }\n    },\n    {\n      \"column\": \"tweet_location\",\n      \"properties\": {\n        \"dtype\": \"category\",\n        \"num_unique_values\": 3081,\n        \"samples\": [\n          \"Oakland, California\",\n          \"Beverly Hills, CA\",\n          \"Austin, TX/NY, NY\"\n        ],\n        \"semantic_type\": \"\",\n        \"description\": \"\"\n      }\n    },\n    {\n      \"column\": \"user_timezone\",\n      \"properties\": {\n        \"dtype\": \"category\",\n        \"num_unique_values\": 85,\n        \"samples\": [\n          \"Helsinki\",\n          \"Eastern Time (US & Canada)\",\n          \"America/Detroit\"\n        ],\n        \"semantic_type\": \"\",\n        \"description\": \"\"\n      }\n    }\n  ]\n}"
            }
          },
          "metadata": {},
          "execution_count": 4
        }
      ],
      "source": [
        "# Show the first five rows\n",
        "tweets.head()"
      ]
    },
    {
      "cell_type": "markdown",
      "id": "ae3b339f-45cf-465d-931c-05f9096fd510",
      "metadata": {
        "id": "ae3b339f-45cf-465d-931c-05f9096fd510"
      },
      "source": [
        "The dataframe has one row per tweet. The text of tweet is shown in the `text` column.\n",
        "- `text` (`str`): the text of the tweet.\n",
        "\n",
        "Other metadata we are interested in include:\n",
        "- `airline_sentiment` (`str`): the sentiment of the tweet, labeled as \"neutral,\" \"positive,\" or \"negative.\"\n",
        "- `airline` (`str`): the airline that is tweeted about.\n",
        "- `retweet count` (`int`): how many times the tweet was retweeted."
      ]
    },
    {
      "cell_type": "markdown",
      "id": "302c695b-4bd1-4151-9cb9-ef5253eb16df",
      "metadata": {
        "id": "302c695b-4bd1-4151-9cb9-ef5253eb16df"
      },
      "source": [
        "Let's take a look at some of the tweets:"
      ]
    },
    {
      "cell_type": "markdown",
      "source": [
        "*Se muestran los tweets que se encuentran en la columna \"text\" en las filas 0,1,2*"
      ],
      "metadata": {
        "id": "cPLA6ufMDwbb"
      },
      "id": "cPLA6ufMDwbb"
    },
    {
      "cell_type": "code",
      "execution_count": 5,
      "id": "b690daab-7be5-4b8f-8af0-a91fdec4ec4f",
      "metadata": {
        "id": "b690daab-7be5-4b8f-8af0-a91fdec4ec4f",
        "colab": {
          "base_uri": "https://localhost:8080/"
        },
        "outputId": "c667bc7c-c5e1-44b0-c293-71059638594e"
      },
      "outputs": [
        {
          "output_type": "stream",
          "name": "stdout",
          "text": [
            "@VirginAmerica What @dhepburn said.\n",
            "@VirginAmerica plus you've added commercials to the experience... tacky.\n",
            "@VirginAmerica I didn't today... Must mean I need to take another trip!\n"
          ]
        }
      ],
      "source": [
        "print(tweets['text'].iloc[0])\n",
        "print(tweets['text'].iloc[1])\n",
        "print(tweets['text'].iloc[2])"
      ]
    },
    {
      "cell_type": "markdown",
      "id": "8adc05fa-ad30-4402-ab56-086bcb09a166",
      "metadata": {
        "id": "8adc05fa-ad30-4402-ab56-086bcb09a166"
      },
      "source": [
        "🔔 **Question**: What have you noticed? What are the stylistic features of tweets?"
      ]
    },
    {
      "cell_type": "markdown",
      "source": [
        "**Muestra comentarios o tweets de usuarios a diferentes aerolíneas y las clasifica según si son positivas, negativas o neutrales**"
      ],
      "metadata": {
        "id": "PmTd2ch0ELMX"
      },
      "id": "PmTd2ch0ELMX"
    },
    {
      "cell_type": "markdown",
      "id": "c3460393-00a6-461c-b02a-9e98f9b5d1af",
      "metadata": {
        "id": "c3460393-00a6-461c-b02a-9e98f9b5d1af"
      },
      "source": [
        "### Lowercasing\n",
        "\n",
        "While we acknowledge that a word's casing is informative, we often don't work in contexts where we can properly utilize this information.\n",
        "\n",
        "More often, the subsequent analysis we perform is **case-insensitive**. For instance, in frequency analysis, we want to account for various forms of the same word. Lowercasing the text data aids in this process and simplifies our analysis.\n",
        "\n",
        "We can easily achieve lowercasing with the string method [`.lower()`](https://docs.python.org/3/library/stdtypes.html#str.lower); see [documentation](https://docs.python.org/3/library/stdtypes.html#string-methods) for more useful functions.\n",
        "\n",
        "Let's apply it to the following example:"
      ]
    },
    {
      "cell_type": "markdown",
      "source": [
        "*Imprime el tweet de la fila 108*"
      ],
      "metadata": {
        "id": "6OFWipb4Jsa1"
      },
      "id": "6OFWipb4Jsa1"
    },
    {
      "cell_type": "code",
      "execution_count": 6,
      "id": "58a95d90-3ef1-4bff-9cfe-d447ed99f252",
      "metadata": {
        "id": "58a95d90-3ef1-4bff-9cfe-d447ed99f252",
        "colab": {
          "base_uri": "https://localhost:8080/"
        },
        "outputId": "7a8b9dba-1499-4d60-ff1b-d272c3eec889"
      },
      "outputs": [
        {
          "output_type": "stream",
          "name": "stdout",
          "text": [
            "@VirginAmerica I was scheduled for SFO 2 DAL flight 714 today. Changed to 24th due weather. Looks like flight still on?\n"
          ]
        }
      ],
      "source": [
        "# Print the first example\n",
        "first_example = tweets['text'][108]\n",
        "print(first_example)"
      ]
    },
    {
      "cell_type": "markdown",
      "source": [
        "*Revisa si todos los caracteres están en minúscula, luego imprime todos los caracteres convertidos en minúscula y finalmente los vuelve a imprimir en mayuscula*"
      ],
      "metadata": {
        "id": "X3ZnN1igKB3q"
      },
      "id": "X3ZnN1igKB3q"
    },
    {
      "cell_type": "code",
      "execution_count": 7,
      "id": "c66d91c0-6eed-4591-95fc-cd2eae2e0d41",
      "metadata": {
        "id": "c66d91c0-6eed-4591-95fc-cd2eae2e0d41",
        "colab": {
          "base_uri": "https://localhost:8080/"
        },
        "outputId": "4a9e725a-5203-49fb-bdf5-f3a80927033f"
      },
      "outputs": [
        {
          "output_type": "stream",
          "name": "stdout",
          "text": [
            "False\n",
            "==================================================\n",
            "@virginamerica i was scheduled for sfo 2 dal flight 714 today. changed to 24th due weather. looks like flight still on?\n",
            "==================================================\n",
            "@VIRGINAMERICA I WAS SCHEDULED FOR SFO 2 DAL FLIGHT 714 TODAY. CHANGED TO 24TH DUE WEATHER. LOOKS LIKE FLIGHT STILL ON?\n"
          ]
        }
      ],
      "source": [
        "# Check if all characters are in lowercase\n",
        "print(first_example.islower())\n",
        "print(f\"{'=' * 50}\")\n",
        "\n",
        "# Convert it to lowercase\n",
        "print(first_example.lower())\n",
        "print(f\"{'=' * 50}\")\n",
        "\n",
        "# Convert it to uppercase\n",
        "print(first_example.upper())"
      ]
    },
    {
      "cell_type": "markdown",
      "id": "7bf0d8c8-bd6c-47ef-b305-09ac61d07d4d",
      "metadata": {
        "id": "7bf0d8c8-bd6c-47ef-b305-09ac61d07d4d"
      },
      "source": [
        "### Remove Extra Whitespace Characters\n",
        "\n",
        "Sometimes we might come across texts with extraneous whitespace, such as spaces, tabs, and newline characters, which is particularly common when the text is scrapped from web pages. Before we dive into the details, let's briefly introduce Regular Expressions (regex) and the `re` package.\n",
        "\n",
        "Regular expressions are a powerful way of searching for specific string patterns in large corpora. They have an infamously steep learning curve, but they can be very efficient when we get a handle on them. Many NLP packages heavily rely on regex under the hood. Regex testers, such as [regex101](https://regex101.com), are useful tools in both understanding and creating regex expressions.\n",
        "\n",
        "Our goal in this workshop is not to provide a deep (or even shallow) dive into regex; instead, we want to expose you to them so that you are better prepared to do deep dives in the future!\n",
        "\n",
        "The following example is a poem by William Wordsworth. Like many poems, the text may contain extra line breaks (i.e., newline characters, `\\n`) that we want to remove."
      ]
    },
    {
      "cell_type": "markdown",
      "source": [
        "*Se llama el archivo poem_wordsworth.txt. Se lo abre, se lee y se guarda como un string llamado text*"
      ],
      "metadata": {
        "id": "uZk9Bw5nLhSk"
      },
      "id": "uZk9Bw5nLhSk"
    },
    {
      "cell_type": "code",
      "execution_count": 8,
      "id": "d1bd73f1-a30f-4269-a05e-47cfff7b496f",
      "metadata": {
        "id": "d1bd73f1-a30f-4269-a05e-47cfff7b496f"
      },
      "outputs": [],
      "source": [
        "# File path to the poem\n",
        "text_path = '/content/drive/MyDrive/Clase 2 - Tratamiento de Datos/Python-NLP-Fundamentals-main/data/poem_wordsworth.txt'\n",
        "\n",
        "# Read the poem in\n",
        "with open(text_path, 'r') as file:\n",
        "    text = file.read()\n",
        "    file.close()"
      ]
    },
    {
      "cell_type": "markdown",
      "id": "7a693dd9-9706-40b3-863f-f568020245f7",
      "metadata": {
        "id": "7a693dd9-9706-40b3-863f-f568020245f7"
      },
      "source": [
        "As you can see, the poem is formatted as a continuous string of text with line breaks placed at the end of each line, making it difficult to read."
      ]
    },
    {
      "cell_type": "markdown",
      "source": [
        "*Se muestra el string text*"
      ],
      "metadata": {
        "id": "99kTJSahMB4C"
      },
      "id": "99kTJSahMB4C"
    },
    {
      "cell_type": "code",
      "execution_count": 9,
      "id": "7e78a75a-8e15-4bcb-a416-783aa7f60ef3",
      "metadata": {
        "id": "7e78a75a-8e15-4bcb-a416-783aa7f60ef3",
        "colab": {
          "base_uri": "https://localhost:8080/",
          "height": 157
        },
        "outputId": "0de7905e-66c0-4e06-c74c-9aebe79cf4b3"
      },
      "outputs": [
        {
          "output_type": "execute_result",
          "data": {
            "text/plain": [
              "\"I wandered lonely as a cloud\\n\\n\\nI wandered lonely as a cloud\\nThat floats on high o'er vales and hills,\\nWhen all at once I saw a crowd,\\nA host, of golden daffodils;\\nBeside the lake, beneath the trees,\\nFluttering and dancing in the breeze.\\n\\nContinuous as the stars that shine\\nAnd twinkle on the milky way,\\nThey stretched in never-ending line\\nAlong the margin of a bay:\\nTen thousand saw I at a glance,\\nTossing their heads in sprightly dance.\\n\\nThe waves beside them danced; but they\\nOut-did the sparkling waves in glee:\\nA poet could not but be gay,\\nIn such a jocund company:\\nI gazed—and gazed—but little thought\\nWhat wealth the show to me had brought:\\n\\nFor oft, when on my couch I lie\\nIn vacant or in pensive mood,\\nThey flash upon that inward eye\\nWhich is the bliss of solitude;\\nAnd then my heart with pleasure fills,\\nAnd dances with the daffodils.\""
            ],
            "application/vnd.google.colaboratory.intrinsic+json": {
              "type": "string"
            }
          },
          "metadata": {},
          "execution_count": 9
        }
      ],
      "source": [
        "text"
      ]
    },
    {
      "cell_type": "markdown",
      "id": "47cce993-c315-4aaa-87fe-149de8607f65",
      "metadata": {
        "id": "47cce993-c315-4aaa-87fe-149de8607f65"
      },
      "source": [
        "One handy function we can use to display the poem properly is `.splitlines()`. As the name suggests, it splits a long text sequence into a list of lines whenever there is a newline character.   "
      ]
    },
    {
      "cell_type": "markdown",
      "source": [
        "*Muestra el texto como líneas*"
      ],
      "metadata": {
        "id": "M2UBo3P4M7As"
      },
      "id": "M2UBo3P4M7As"
    },
    {
      "cell_type": "code",
      "execution_count": 10,
      "id": "ddeade7a-065d-49e6-bdd3-87a8ea8f6e6e",
      "metadata": {
        "id": "ddeade7a-065d-49e6-bdd3-87a8ea8f6e6e",
        "colab": {
          "base_uri": "https://localhost:8080/"
        },
        "outputId": "10c6c6d6-a5ed-44c2-dc35-cab0d24f231a"
      },
      "outputs": [
        {
          "output_type": "execute_result",
          "data": {
            "text/plain": [
              "['I wandered lonely as a cloud',\n",
              " '',\n",
              " '',\n",
              " 'I wandered lonely as a cloud',\n",
              " \"That floats on high o'er vales and hills,\",\n",
              " 'When all at once I saw a crowd,',\n",
              " 'A host, of golden daffodils;',\n",
              " 'Beside the lake, beneath the trees,',\n",
              " 'Fluttering and dancing in the breeze.',\n",
              " '',\n",
              " 'Continuous as the stars that shine',\n",
              " 'And twinkle on the milky way,',\n",
              " 'They stretched in never-ending line',\n",
              " 'Along the margin of a bay:',\n",
              " 'Ten thousand saw I at a glance,',\n",
              " 'Tossing their heads in sprightly dance.',\n",
              " '',\n",
              " 'The waves beside them danced; but they',\n",
              " 'Out-did the sparkling waves in glee:',\n",
              " 'A poet could not but be gay,',\n",
              " 'In such a jocund company:',\n",
              " 'I gazed—and gazed—but little thought',\n",
              " 'What wealth the show to me had brought:',\n",
              " '',\n",
              " 'For oft, when on my couch I lie',\n",
              " 'In vacant or in pensive mood,',\n",
              " 'They flash upon that inward eye',\n",
              " 'Which is the bliss of solitude;',\n",
              " 'And then my heart with pleasure fills,',\n",
              " 'And dances with the daffodils.']"
            ]
          },
          "metadata": {},
          "execution_count": 10
        }
      ],
      "source": [
        "# Split the single string into a list of lines\n",
        "text.splitlines()"
      ]
    },
    {
      "cell_type": "markdown",
      "id": "44d3825b-0857-44e1-bf6a-d8c7a9032704",
      "metadata": {
        "id": "44d3825b-0857-44e1-bf6a-d8c7a9032704"
      },
      "source": [
        "Let's return to our tweet data for an example."
      ]
    },
    {
      "cell_type": "markdown",
      "source": [
        "*Del dataframe, se muestro el tweet de la fila 5*"
      ],
      "metadata": {
        "id": "sx1h1yCENJLm"
      },
      "id": "sx1h1yCENJLm"
    },
    {
      "cell_type": "code",
      "execution_count": 11,
      "id": "53a81ea9-65c4-474a-8530-35393555d1be",
      "metadata": {
        "id": "53a81ea9-65c4-474a-8530-35393555d1be",
        "colab": {
          "base_uri": "https://localhost:8080/",
          "height": 53
        },
        "outputId": "253d8176-b596-478c-e47b-99071451f85b"
      },
      "outputs": [
        {
          "output_type": "execute_result",
          "data": {
            "text/plain": [
              "\"@VirginAmerica seriously would pay $30 a flight for seats that didn't have this playing.\\nit's really the only bad thing about flying VA\""
            ],
            "application/vnd.google.colaboratory.intrinsic+json": {
              "type": "string"
            }
          },
          "metadata": {},
          "execution_count": 11
        }
      ],
      "source": [
        "# Print the second example\n",
        "second_example = tweets['text'][5]\n",
        "second_example"
      ]
    },
    {
      "cell_type": "markdown",
      "id": "aef55865-36fd-4c06-a765-530cf3b53096",
      "metadata": {
        "id": "aef55865-36fd-4c06-a765-530cf3b53096"
      },
      "source": [
        "In this case, we don't really want to split the tweet into a list of strings. We still expect a single string of text but would like to remove the line break completely from the string.\n",
        "\n",
        "The string method `.strip()` effectively does the job of stripping away spaces at both ends of the text. However, it won't work in our example as the newline character is in the middle of the string."
      ]
    },
    {
      "cell_type": "markdown",
      "source": [
        "*Se remueve los espacios en blanco a ambos extremos, no funciona en este caso porque el salto de línea se se encuentra en el medio del texto*"
      ],
      "metadata": {
        "id": "h495wUO-NsgQ"
      },
      "id": "h495wUO-NsgQ"
    },
    {
      "cell_type": "code",
      "execution_count": 12,
      "id": "b933503b-4370-4dc4-b287-6dc2f9cdb1d4",
      "metadata": {
        "id": "b933503b-4370-4dc4-b287-6dc2f9cdb1d4",
        "colab": {
          "base_uri": "https://localhost:8080/",
          "height": 53
        },
        "outputId": "f848078f-39f4-4841-da4f-666104c14f4d"
      },
      "outputs": [
        {
          "output_type": "execute_result",
          "data": {
            "text/plain": [
              "\"@VirginAmerica seriously would pay $30 a flight for seats that didn't have this playing.\\nit's really the only bad thing about flying VA\""
            ],
            "application/vnd.google.colaboratory.intrinsic+json": {
              "type": "string"
            }
          },
          "metadata": {},
          "execution_count": 12
        }
      ],
      "source": [
        "# Strip only removed blankspace at both ends\n",
        "second_example.strip()"
      ]
    },
    {
      "cell_type": "markdown",
      "id": "b99b80b4-804f-460f-a2d5-adbd654902b3",
      "metadata": {
        "id": "b99b80b4-804f-460f-a2d5-adbd654902b3"
      },
      "source": [
        "This is where regex could be really helpful."
      ]
    },
    {
      "cell_type": "markdown",
      "source": [
        "*Se importa el paquete de REGEX*"
      ],
      "metadata": {
        "id": "BKr16pM1N5vy"
      },
      "id": "BKr16pM1N5vy"
    },
    {
      "cell_type": "code",
      "execution_count": 13,
      "id": "ceac9714-7053-4b2e-affb-71f8c3d2dcd9",
      "metadata": {
        "id": "ceac9714-7053-4b2e-affb-71f8c3d2dcd9"
      },
      "outputs": [],
      "source": [
        "import re"
      ]
    },
    {
      "cell_type": "markdown",
      "id": "d5f08d20-ba81-4e48-9e2a-5728148005b3",
      "metadata": {
        "id": "d5f08d20-ba81-4e48-9e2a-5728148005b3"
      },
      "source": [
        "Now, with regex, we are essentially calling it to match a pattern that we have identified in the text data, and we want to do some operations to the matched part—extract it, replace it with something else, or remove it completely. Therefore, the way regex works could be unpacked into the following steps:\n",
        "\n",
        "- Identify and write the pattern in regex (`r'PATTERN'`)\n",
        "- Write the replacement for the pattern (`'REPLACEMENT'`)\n",
        "- Call the specific regex function (e.g., `re.sub()`)\n",
        "\n",
        "In our example, the pattern we are looking for is `\\s`, which is the regex short name for any whitespace character (`\\n` and `\\t` included). We also add a quantifier `+` to the end: `\\s+`. It means we'd like to capture one or more occurences of the whitespace character."
      ]
    },
    {
      "cell_type": "markdown",
      "source": [
        "*Se identifica espacios en blanco del formato \\s,\\n,\\t*"
      ],
      "metadata": {
        "id": "C-YIRN4KOYQL"
      },
      "id": "C-YIRN4KOYQL"
    },
    {
      "cell_type": "code",
      "execution_count": 14,
      "id": "1248d227-1149-4014-94a5-c05592a27a7e",
      "metadata": {
        "id": "1248d227-1149-4014-94a5-c05592a27a7e"
      },
      "outputs": [],
      "source": [
        "# Write a pattern in regex\n",
        "blankspace_pattern = r'\\s+'"
      ]
    },
    {
      "cell_type": "markdown",
      "id": "cc075c2e-1a1d-4393-a3ea-8ad7c118364b",
      "metadata": {
        "id": "cc075c2e-1a1d-4393-a3ea-8ad7c118364b"
      },
      "source": [
        "The replacement for one or more whitespace characters is exactly one single whitespace, which is the canonical word boundary in English. Any additional whitespace will be reduced to a single whitespace."
      ]
    },
    {
      "cell_type": "markdown",
      "source": [
        "*Se guarda un string con un espacio en blanco*"
      ],
      "metadata": {
        "id": "2Q7sIX21PPDh"
      },
      "id": "2Q7sIX21PPDh"
    },
    {
      "cell_type": "code",
      "execution_count": 15,
      "id": "c55cb2f1-f4ca-4b79-900c-f65ec303ddac",
      "metadata": {
        "id": "c55cb2f1-f4ca-4b79-900c-f65ec303ddac"
      },
      "outputs": [],
      "source": [
        "# Write a replacement for the pattern identfied\n",
        "blankspace_repl = ' '"
      ]
    },
    {
      "cell_type": "markdown",
      "id": "bc12e3d1-728a-429b-9c83-4dcc88590bc4",
      "metadata": {
        "id": "bc12e3d1-728a-429b-9c83-4dcc88590bc4"
      },
      "source": [
        "Lastly, let's put everything together using the function [`re.sub()`](https://docs.python.org/3.11/library/re.html#re.sub), which means we want to substitute a pattern with a replacement. The function takes in three arguments—the pattern, the replacement, and the string to which we want to apply the function."
      ]
    },
    {
      "cell_type": "markdown",
      "source": [
        "*Se reemplaza lo identificado con el espacio en blanco en el tweet llamado. Se guarda en un nuevo string y e imprime*"
      ],
      "metadata": {
        "id": "eDd22qg0PhhJ"
      },
      "id": "eDd22qg0PhhJ"
    },
    {
      "cell_type": "code",
      "execution_count": 16,
      "id": "5249b24b-7111-4569-be29-c40efa5e148e",
      "metadata": {
        "id": "5249b24b-7111-4569-be29-c40efa5e148e",
        "colab": {
          "base_uri": "https://localhost:8080/"
        },
        "outputId": "3fd3a266-0a69-453b-8c19-c3ae8e8b1f45"
      },
      "outputs": [
        {
          "output_type": "stream",
          "name": "stdout",
          "text": [
            "@VirginAmerica seriously would pay $30 a flight for seats that didn't have this playing. it's really the only bad thing about flying VA\n"
          ]
        }
      ],
      "source": [
        "# Replace whitespace(s) with ' '\n",
        "clean_text = re.sub(pattern = blankspace_pattern,\n",
        "                    repl = blankspace_repl,\n",
        "                    string = second_example)\n",
        "print(clean_text)"
      ]
    },
    {
      "cell_type": "markdown",
      "id": "a895fbe3-a034-4124-94af-72a528913c51",
      "metadata": {
        "id": "a895fbe3-a034-4124-94af-72a528913c51"
      },
      "source": [
        "Ta-da! The newline character is no longer there."
      ]
    },
    {
      "cell_type": "markdown",
      "id": "7087dc0c-5fef-4f1c-8662-7cbc8a978f34",
      "metadata": {
        "id": "7087dc0c-5fef-4f1c-8662-7cbc8a978f34"
      },
      "source": [
        "### Remove Punctuation Marks\n",
        "\n",
        "Sometimes we are only interested in analyzing **alphanumeric characters** (i.e., the letters and numbers), in which case we might want to remove punctuation marks.\n",
        "\n",
        "The `string` module contains a list of predefined punctuation marks. Let's print them out."
      ]
    },
    {
      "cell_type": "markdown",
      "source": [
        "*Se llama un paquete predefinido de signos de puntuación. Se imprime*"
      ],
      "metadata": {
        "id": "zPa02q2NP4m1"
      },
      "id": "zPa02q2NP4m1"
    },
    {
      "cell_type": "code",
      "execution_count": 17,
      "id": "70e8502b-b703-45e0-8852-0c3210363440",
      "metadata": {
        "id": "70e8502b-b703-45e0-8852-0c3210363440",
        "colab": {
          "base_uri": "https://localhost:8080/"
        },
        "outputId": "61426ca9-b703-49af-d7ae-571697323c33"
      },
      "outputs": [
        {
          "output_type": "stream",
          "name": "stdout",
          "text": [
            "!\"#$%&'()*+,-./:;<=>?@[\\]^_`{|}~\n"
          ]
        }
      ],
      "source": [
        "# Load in a predefined list of punctuation marks\n",
        "from string import punctuation\n",
        "print(punctuation)"
      ]
    },
    {
      "cell_type": "markdown",
      "id": "91119c9e-431c-42cb-afea-f7e607698929",
      "metadata": {
        "id": "91119c9e-431c-42cb-afea-f7e607698929"
      },
      "source": [
        "In practice, to remove these punctuation characters, we can simply iterate over the text and remove characters found in the list, such as shown below in the `remove_punct` function."
      ]
    },
    {
      "cell_type": "markdown",
      "source": [
        "*Se define una función que recorre cada caracter del texto a ingresar, verifica que no se encuentre dentro de la lista de signos de puntuación, y crea un nuevo string con todos los caracteres que no sean puntuación*"
      ],
      "metadata": {
        "id": "AYkdbfMAQVmf"
      },
      "id": "AYkdbfMAQVmf"
    },
    {
      "cell_type": "code",
      "execution_count": 18,
      "id": "237d868d-339d-4bbe-9a3b-20fa5fbdf231",
      "metadata": {
        "id": "237d868d-339d-4bbe-9a3b-20fa5fbdf231"
      },
      "outputs": [],
      "source": [
        "def remove_punct(text):\n",
        "    '''Remove punctuation marks in input text'''\n",
        "\n",
        "    # Select characters not in puncutaion\n",
        "    no_punct = []\n",
        "    for char in text:\n",
        "        if char not in punctuation:\n",
        "            no_punct.append(char)\n",
        "\n",
        "    # Join the characters into a string\n",
        "    text_no_punct = ''.join(no_punct)\n",
        "\n",
        "    return text_no_punct"
      ]
    },
    {
      "cell_type": "markdown",
      "id": "d4fc768b-c2dd-4386-8212-483c4485e4be",
      "metadata": {
        "id": "d4fc768b-c2dd-4386-8212-483c4485e4be"
      },
      "source": [
        "Let's apply the function to the example below."
      ]
    },
    {
      "cell_type": "markdown",
      "source": [
        "*Imprime el tweet de la fila 20. Se aplica la función remove_punct. Se imprime. Se muestra que se eliminaron los signos \"@\" y \"?\"*"
      ],
      "metadata": {
        "id": "-_FmHNJRQ-HD"
      },
      "id": "-_FmHNJRQ-HD"
    },
    {
      "cell_type": "code",
      "execution_count": 19,
      "id": "7596c465-3d85-4b72-a853-f2151bcd91df",
      "metadata": {
        "id": "7596c465-3d85-4b72-a853-f2151bcd91df",
        "colab": {
          "base_uri": "https://localhost:8080/",
          "height": 107
        },
        "outputId": "28fb8f80-169a-4d45-89b2-2ebe3dd8e082"
      },
      "outputs": [
        {
          "output_type": "stream",
          "name": "stdout",
          "text": [
            "@VirginAmerica why are your first fares in May over three times more than other carriers when all seats are available to select???\n",
            "==================================================\n"
          ]
        },
        {
          "output_type": "execute_result",
          "data": {
            "text/plain": [
              "'VirginAmerica why are your first fares in May over three times more than other carriers when all seats are available to select'"
            ],
            "application/vnd.google.colaboratory.intrinsic+json": {
              "type": "string"
            }
          },
          "metadata": {},
          "execution_count": 19
        }
      ],
      "source": [
        "# Print the third example\n",
        "third_example = tweets['text'][20]\n",
        "print(third_example)\n",
        "print(f\"{'=' * 50}\")\n",
        "\n",
        "# Apply the function\n",
        "remove_punct(third_example)"
      ]
    },
    {
      "cell_type": "markdown",
      "id": "853a4b83-f503-4405-aedd-66bbc088e3e7",
      "metadata": {
        "id": "853a4b83-f503-4405-aedd-66bbc088e3e7"
      },
      "source": [
        "Let's give it a try with another tweet. What have you noticed?"
      ]
    },
    {
      "cell_type": "markdown",
      "source": [
        "*Imprime el tweet de la fila 100. Se aplica la función remove_punct. Se imprime. Se muestra que se eliminaron los signos \"@\", \".\" y \"/\"*"
      ],
      "metadata": {
        "id": "o8ZWn4XzRd0v"
      },
      "id": "o8ZWn4XzRd0v"
    },
    {
      "cell_type": "code",
      "execution_count": 20,
      "id": "5b3c2f60-fc92-4326-bad6-5ad04be50476",
      "metadata": {
        "id": "5b3c2f60-fc92-4326-bad6-5ad04be50476",
        "colab": {
          "base_uri": "https://localhost:8080/",
          "height": 70
        },
        "outputId": "8fa120ec-ba2e-4729-a000-38d0252205a1"
      },
      "outputs": [
        {
          "output_type": "stream",
          "name": "stdout",
          "text": [
            "@VirginAmerica trying to add my boy Prince to my ressie. SF this Thursday @VirginAmerica from LAX http://t.co/GsB2J3c4gM\n",
            "==================================================\n"
          ]
        },
        {
          "output_type": "execute_result",
          "data": {
            "text/plain": [
              "'VirginAmerica trying to add my boy Prince to my ressie SF this Thursday VirginAmerica from LAX httptcoGsB2J3c4gM'"
            ],
            "application/vnd.google.colaboratory.intrinsic+json": {
              "type": "string"
            }
          },
          "metadata": {},
          "execution_count": 20
        }
      ],
      "source": [
        "# Print another tweet\n",
        "print(tweets['text'][100])\n",
        "print(f\"{'=' * 50}\")\n",
        "\n",
        "# Apply the function\n",
        "remove_punct(tweets['text'][100])"
      ]
    },
    {
      "cell_type": "markdown",
      "id": "1af02ce5-b674-4cb4-8e08-7d7416963f9c",
      "metadata": {
        "id": "1af02ce5-b674-4cb4-8e08-7d7416963f9c"
      },
      "source": [
        "What about the following example?"
      ]
    },
    {
      "cell_type": "markdown",
      "source": [
        "*Se aplica la función sobre un nuevo string\""
      ],
      "metadata": {
        "id": "TSFUXuETR5ew"
      },
      "id": "TSFUXuETR5ew"
    },
    {
      "cell_type": "code",
      "execution_count": 21,
      "id": "6f8c3947-e6b8-42fe-8a58-15e4b6c60005",
      "metadata": {
        "id": "6f8c3947-e6b8-42fe-8a58-15e4b6c60005",
        "colab": {
          "base_uri": "https://localhost:8080/",
          "height": 35
        },
        "outputId": "90af7751-0375-4ee5-872a-632afad42298"
      },
      "outputs": [
        {
          "output_type": "execute_result",
          "data": {
            "text/plain": [
              "'Weve got quite a bit of punctuation here dont we Python DLab'"
            ],
            "application/vnd.google.colaboratory.intrinsic+json": {
              "type": "string"
            }
          },
          "metadata": {},
          "execution_count": 21
        }
      ],
      "source": [
        "# Print a text with contraction\n",
        "contraction_text = \"We've got quite a bit of punctuation here, don't we?!? #Python @D-Lab.\"\n",
        "\n",
        "# Apply the function\n",
        "remove_punct(contraction_text)"
      ]
    },
    {
      "cell_type": "markdown",
      "id": "62574c66-db3f-4500-9c3b-cea2f3eb2a30",
      "metadata": {
        "id": "62574c66-db3f-4500-9c3b-cea2f3eb2a30"
      },
      "source": [
        "⚠️ **Warning:** In many cases, we want to remove punctuation marks **after** tokenization, which we will discuss in a minute. This tells us that the **order** of preprocessing is a matter of importance!"
      ]
    },
    {
      "cell_type": "markdown",
      "id": "58c6b85e-58e7-4f56-9b4a-b60c85b394ba",
      "metadata": {
        "id": "58c6b85e-58e7-4f56-9b4a-b60c85b394ba"
      },
      "source": [
        "## 🥊 Challenge 1: Preprocessing with Multiple Steps\n",
        "\n",
        "So far we've learned a few preprocessing operations, let's put them together in a function! This function would be a handy one to refer to if you happen to work with some messy English text data, and you want to preprocess it with a single function.\n",
        "\n",
        "The example text data for challenge 1 is shown below. Write a function to:\n",
        "- Lowercase the text\n",
        "- Remove punctuation marks\n",
        "- Remove extra whitespace characters\n",
        "\n",
        "Feel free to recycle the codes we've used above!"
      ]
    },
    {
      "cell_type": "markdown",
      "source": [
        "*Se llama al archivo example1.txt y se lo define como string challenge1*"
      ],
      "metadata": {
        "id": "d5QXPKncSUPw"
      },
      "id": "d5QXPKncSUPw"
    },
    {
      "cell_type": "code",
      "execution_count": 22,
      "id": "deb10cba-239e-4856-b56d-7d5eb850c9b9",
      "metadata": {
        "id": "deb10cba-239e-4856-b56d-7d5eb850c9b9",
        "colab": {
          "base_uri": "https://localhost:8080/"
        },
        "outputId": "2189e367-4a3b-48d9-9ff8-20cb9f324a57"
      },
      "outputs": [
        {
          "output_type": "stream",
          "name": "stdout",
          "text": [
            "\n",
            "\n",
            "This is a text file that has some extra blankspace at the start and end. Blankspace is a catch-all term for spaces, tabs, newlines, and a bunch of other things that computers distinguish but to us all look like spaces, tabs and newlines.\n",
            "\n",
            "\n",
            "The Python method called \"strip\" only catches blankspace at the start and end of a string. But it won't catch it in       the middle,\t\tfor example,\n",
            "\n",
            "in this sentence.\t\tOnce again, regular expressions will\n",
            "\n",
            "help\t\tus    with this.\n",
            "\n",
            "\n",
            "\n"
          ]
        }
      ],
      "source": [
        "challenge1_path = '/content/drive/MyDrive/Clase 2 - Tratamiento de Datos/Python-NLP-Fundamentals-main/data/example1.txt'\n",
        "\n",
        "with open(challenge1_path, 'r') as file:\n",
        "    challenge1 = file.read()\n",
        "\n",
        "print(challenge1)"
      ]
    },
    {
      "cell_type": "markdown",
      "source": [
        "*Se define una función para que a un texto se lo convierta en minúsculas, se remueva los signos de puntuación y se coloquen espacios en blanco en lugar de los saltos de línea*"
      ],
      "metadata": {
        "id": "Vq9vA-Cwdtew"
      },
      "id": "Vq9vA-Cwdtew"
    },
    {
      "cell_type": "code",
      "execution_count": 23,
      "id": "e2480823-65dd-4f52-a7b3-6d9b10d87912",
      "metadata": {
        "scrolled": true,
        "id": "e2480823-65dd-4f52-a7b3-6d9b10d87912"
      },
      "outputs": [],
      "source": [
        "def clean_text(text):\n",
        "\n",
        "    # Step 1: Lowercase\n",
        "    text = text.lower()\n",
        "\n",
        "    # Step 2: Use remove_punct to remove punctuation marks\n",
        "    text = remove_punct(text)\n",
        "\n",
        "    # Step 3: Remove extra whitespace characters\n",
        "    text = re.sub(pattern = blankspace_pattern,\n",
        "                  repl = blankspace_repl,\n",
        "                  string = text)\n",
        "\n",
        "    return text"
      ]
    },
    {
      "cell_type": "markdown",
      "source": [
        "*Se realiza la función clean_text al string challenge1*"
      ],
      "metadata": {
        "id": "EpW_eWC4eHTd"
      },
      "id": "EpW_eWC4eHTd"
    },
    {
      "cell_type": "code",
      "execution_count": 24,
      "id": "dc603506-0adb-45d7-bb6f-62958c054fdd",
      "metadata": {
        "scrolled": true,
        "id": "dc603506-0adb-45d7-bb6f-62958c054fdd",
        "colab": {
          "base_uri": "https://localhost:8080/",
          "height": 87
        },
        "outputId": "f49ebf5d-6ab7-4a49-ce56-6899be92418a"
      },
      "outputs": [
        {
          "output_type": "execute_result",
          "data": {
            "text/plain": [
              "' this is a text file that has some extra blankspace at the start and end blankspace is a catchall term for spaces tabs newlines and a bunch of other things that computers distinguish but to us all look like spaces tabs and newlines the python method called strip only catches blankspace at the start and end of a string but it wont catch it in the middle for example in this sentence once again regular expressions will help us with this '"
            ],
            "application/vnd.google.colaboratory.intrinsic+json": {
              "type": "string"
            }
          },
          "metadata": {},
          "execution_count": 24
        }
      ],
      "source": [
        "# Uncomment to apply the above function to challenge 1 text\n",
        "clean_text(challenge1)"
      ]
    },
    {
      "cell_type": "markdown",
      "id": "67c159cb-8eaa-4c30-b8ff-38a712d2bb0f",
      "metadata": {
        "id": "67c159cb-8eaa-4c30-b8ff-38a712d2bb0f"
      },
      "source": [
        "## Task-specific Processes\n",
        "\n",
        "Now that we understand common preprocessing operations, there are still a few additional operations to consider. Our text data might require further normalization depending on the language, source, and content of the data.\n",
        "\n",
        "For example, if we are working with financial documents, we might want to standardize monetary symbols by converting them to digits. It our tweets data, there are numerous hashtags and URLs. These can be replaced with placeholders to simplify the subsequent analysis."
      ]
    },
    {
      "cell_type": "markdown",
      "id": "c2936cea-74e9-40c2-bfbe-6ba8129330de",
      "metadata": {
        "id": "c2936cea-74e9-40c2-bfbe-6ba8129330de"
      },
      "source": [
        "### 🎬 **Demo**: Remove Hashtags and URLs\n",
        "\n",
        "Although URLs, hashtags, and numbers are informative in their own right, oftentimes we don't necessarily care about the exact meaning of each of them.\n",
        "\n",
        "While we could remove them completely, it's often informative to know that there **exists** a URL or a hashtag. In practice, we replace individual URLs and hashtags with a \"symbol\" that preserves the fact these structures exist in the text. It's standard to just use the strings \"URL\" and \"HASHTAG.\"\n",
        "\n",
        "Since these types of text often follow a regular structure, they're an apt case for using regular expressions. Let's apply these patterns to the tweets data."
      ]
    },
    {
      "cell_type": "markdown",
      "source": [
        "*Se genera un string con el tweet de la fila 13 del dataframe inicial*"
      ],
      "metadata": {
        "id": "gQd-S4J7eW50"
      },
      "id": "gQd-S4J7eW50"
    },
    {
      "cell_type": "code",
      "execution_count": 25,
      "id": "03c0dc37-a013-4f0a-b72f-a1f64dc6c1bd",
      "metadata": {
        "id": "03c0dc37-a013-4f0a-b72f-a1f64dc6c1bd",
        "colab": {
          "base_uri": "https://localhost:8080/"
        },
        "outputId": "7e296ff6-a514-490e-cb9d-85143abbb8c8"
      },
      "outputs": [
        {
          "output_type": "stream",
          "name": "stdout",
          "text": [
            "@VirginAmerica @virginmedia I'm flying your #fabulous #Seductive skies again! U take all the #stress away from travel http://t.co/ahlXHhKiyn\n"
          ]
        }
      ],
      "source": [
        "# Print the example tweet\n",
        "url_tweet = tweets['text'][13]\n",
        "print(url_tweet)"
      ]
    },
    {
      "cell_type": "markdown",
      "source": [
        "*Se genera un REGEX con el formato de las urls para reemplazarlo por el texto \"URL\". Se realiza esto en el string anterior*"
      ],
      "metadata": {
        "id": "53FGs31oeqjG"
      },
      "id": "53FGs31oeqjG"
    },
    {
      "cell_type": "code",
      "execution_count": 26,
      "id": "4ef61bea-ea11-468d-8176-a2f63659d204",
      "metadata": {
        "id": "4ef61bea-ea11-468d-8176-a2f63659d204",
        "colab": {
          "base_uri": "https://localhost:8080/",
          "height": 53
        },
        "outputId": "d7a54df5-45e7-441b-d677-7a6a6037b018"
      },
      "outputs": [
        {
          "output_type": "execute_result",
          "data": {
            "text/plain": [
              "\"@VirginAmerica @virginmedia I'm flying your #fabulous #Seductive skies again! U take all the #stress away from travel  URL \""
            ],
            "application/vnd.google.colaboratory.intrinsic+json": {
              "type": "string"
            }
          },
          "metadata": {},
          "execution_count": 26
        }
      ],
      "source": [
        "# URL\n",
        "url_pattern = r'(http|ftp|https):\\/\\/([\\w_-]+(?:(?:\\.[\\w_-]+)+))([\\w.,@?^=%&:\\/~+#-]*[\\w@?^=%&\\/~+#-])'\n",
        "url_repl = ' URL '\n",
        "re.sub(url_pattern, url_repl, url_tweet)"
      ]
    },
    {
      "cell_type": "markdown",
      "source": [
        "*Se genera un REGEX con el formato de los hashtags para reemplazarlo por el texto \"HASHTAG\". Se realiza esto en el string anterior*"
      ],
      "metadata": {
        "id": "l5qUVKOAe_dq"
      },
      "id": "l5qUVKOAe_dq"
    },
    {
      "cell_type": "code",
      "execution_count": 27,
      "id": "ea8e0f2a-460e-4088-aa89-dc2a8bc6f7fe",
      "metadata": {
        "id": "ea8e0f2a-460e-4088-aa89-dc2a8bc6f7fe",
        "colab": {
          "base_uri": "https://localhost:8080/",
          "height": 53
        },
        "outputId": "b2a78071-b1fd-4454-ed7d-702246c21c10"
      },
      "outputs": [
        {
          "output_type": "execute_result",
          "data": {
            "text/plain": [
              "\"@VirginAmerica @virginmedia I'm flying your HASHTAG  HASHTAG  skies again! U take all the HASHTAG  away from travel http://t.co/ahlXHhKiyn\""
            ],
            "application/vnd.google.colaboratory.intrinsic+json": {
              "type": "string"
            }
          },
          "metadata": {},
          "execution_count": 27
        }
      ],
      "source": [
        "# Hashtag\n",
        "hashtag_pattern = r'(?:^|\\s)[＃#]{1}(\\w+)'\n",
        "hashtag_repl = ' HASHTAG '\n",
        "re.sub(hashtag_pattern, hashtag_repl, url_tweet)"
      ]
    },
    {
      "cell_type": "markdown",
      "id": "71d68d49-4923-49c0-9113-b844dc7546b9",
      "metadata": {
        "id": "71d68d49-4923-49c0-9113-b844dc7546b9"
      },
      "source": [
        "<a id='section2'></a>\n",
        "\n",
        "# Tokenization\n",
        "\n",
        "## Tokenizers Before LLMs\n",
        "\n",
        "One of the most important steps in text analysis is tokenization. This is the process of breaking a long sequence of text into word tokens. With these tokens available, we are ready to perform word-level analysis. For instance, we can filter out tokens that don't contribute to the core meaning of the text.\n",
        "\n",
        "In this section, we'll introduce how to perform tokenization using `nltk`, `spaCy`, and a Large Language Model (`bert`). The purpose is to expose you to different NLP packages, help you understand their functionalities, and demonstrate how to access key functions in each package.\n",
        "\n",
        "### `nltk`\n",
        "\n",
        "The first package we'll be using is called **Natural Language Toolkit**, or `nltk`.\n",
        "\n",
        "Let's install a couple modules from the package."
      ]
    },
    {
      "cell_type": "markdown",
      "source": [
        "*Se importa el paquete nltk y ciertos módulos para trabajar con palabras, eliminarlas si son stopwords, y dividir texto en tokens.* **Se agrega el módulo punkt_tab**"
      ],
      "metadata": {
        "id": "5FHPEZVifltl"
      },
      "id": "5FHPEZVifltl"
    },
    {
      "cell_type": "code",
      "execution_count": 28,
      "id": "441d81f8-361e-4273-bd36-91a272f4a38a",
      "metadata": {
        "scrolled": true,
        "id": "441d81f8-361e-4273-bd36-91a272f4a38a"
      },
      "outputs": [],
      "source": [
        "import nltk"
      ]
    },
    {
      "cell_type": "code",
      "execution_count": 29,
      "id": "64b327cc-5c77-4fdc-9aaf-17d7f0761237",
      "metadata": {
        "id": "64b327cc-5c77-4fdc-9aaf-17d7f0761237",
        "colab": {
          "base_uri": "https://localhost:8080/"
        },
        "outputId": "1551bd19-9b3a-467a-9fdb-1eae17346906"
      },
      "outputs": [
        {
          "output_type": "stream",
          "name": "stderr",
          "text": [
            "[nltk_data] Downloading package wordnet to /root/nltk_data...\n",
            "[nltk_data] Downloading package stopwords to /root/nltk_data...\n",
            "[nltk_data]   Unzipping corpora/stopwords.zip.\n",
            "[nltk_data] Downloading package punkt to /root/nltk_data...\n",
            "[nltk_data]   Unzipping tokenizers/punkt.zip.\n",
            "[nltk_data] Downloading package punkt_tab to /root/nltk_data...\n",
            "[nltk_data]   Unzipping tokenizers/punkt_tab.zip.\n"
          ]
        },
        {
          "output_type": "execute_result",
          "data": {
            "text/plain": [
              "True"
            ]
          },
          "metadata": {},
          "execution_count": 29
        }
      ],
      "source": [
        "# Uncomment the following lines to install these modules\n",
        "nltk.download('wordnet')\n",
        "nltk.download('stopwords')\n",
        "nltk.download('punkt')\n",
        "nltk.download('punkt_tab')"
      ]
    },
    {
      "cell_type": "markdown",
      "id": "6e79b699-c3a5-489f-9b3c-95653aba34d6",
      "metadata": {
        "id": "6e79b699-c3a5-489f-9b3c-95653aba34d6"
      },
      "source": [
        "`nltk` has a function called `word_tokenize`. It requires one argument, which is the text to be tokenized, and it returns a list of tokens for us."
      ]
    },
    {
      "cell_type": "markdown",
      "source": [
        "*Se importa word_tokenize y se guarda un string con el tweet de la fila 7 del dataframe*"
      ],
      "metadata": {
        "id": "_MyTLZVi03p8"
      },
      "id": "_MyTLZVi03p8"
    },
    {
      "cell_type": "code",
      "execution_count": 30,
      "id": "7b5d6944-c641-4fac-a239-5947a496371c",
      "metadata": {
        "id": "7b5d6944-c641-4fac-a239-5947a496371c",
        "outputId": "104f107e-6dfc-4be5-9e54-3479ceb0c3fb",
        "colab": {
          "base_uri": "https://localhost:8080/"
        }
      },
      "outputs": [
        {
          "output_type": "stream",
          "name": "stdout",
          "text": [
            "@VirginAmerica Really missed a prime opportunity for Men Without Hats parody, there. https://t.co/mWpG7grEZP\n"
          ]
        }
      ],
      "source": [
        "# Load word_tokenize\n",
        "from nltk.tokenize import word_tokenize\n",
        "\n",
        "# Print the example\n",
        "text = tweets['text'][7]\n",
        "print(text)"
      ]
    },
    {
      "cell_type": "markdown",
      "source": [
        "*Se aplica word_tokenize para dividir el texto een tokens (palabras, signos y otros elementos)*"
      ],
      "metadata": {
        "id": "6_hD67ql4rLg"
      },
      "id": "6_hD67ql4rLg"
    },
    {
      "cell_type": "code",
      "execution_count": 31,
      "id": "95fde2a3-e4e2-4e61-ad54-e4d5d0a6ba71",
      "metadata": {
        "id": "95fde2a3-e4e2-4e61-ad54-e4d5d0a6ba71",
        "outputId": "a1ff0867-b4ad-4a70-9488-02325d76af43",
        "colab": {
          "base_uri": "https://localhost:8080/"
        }
      },
      "outputs": [
        {
          "output_type": "execute_result",
          "data": {
            "text/plain": [
              "['@',\n",
              " 'VirginAmerica',\n",
              " 'Really',\n",
              " 'missed',\n",
              " 'a',\n",
              " 'prime',\n",
              " 'opportunity',\n",
              " 'for',\n",
              " 'Men',\n",
              " 'Without',\n",
              " 'Hats',\n",
              " 'parody',\n",
              " ',',\n",
              " 'there',\n",
              " '.',\n",
              " 'https',\n",
              " ':',\n",
              " '//t.co/mWpG7grEZP']"
            ]
          },
          "metadata": {},
          "execution_count": 31
        }
      ],
      "source": [
        "# Apply the NLTK tokenizer\n",
        "nltk_tokens = word_tokenize(text)\n",
        "nltk_tokens"
      ]
    },
    {
      "cell_type": "markdown",
      "id": "80ead039-7721-4b22-8590-0d7824631675",
      "metadata": {
        "id": "80ead039-7721-4b22-8590-0d7824631675"
      },
      "source": [
        "Here we are, with a list of tokens identified by `nltk`. Let's take a minute to inspect them!\n",
        "\n",
        "🔔 **Question**: Do word boundaries decided by `nltk` make sense to you? Pay attention to the twitter handle and the URL in the example tweet.\n",
        "\n",
        "You may feel that accessing functions in `nltk` is pretty straightforward. The function we used above was imported from the `nltk.tokenize` module, which as the name suggests, primarily does the job of tokenization.\n",
        "\n",
        "Underlyingly, `nltk` has [a collection of modules](https://www.nltk.org/api/nltk.html) that fulfill different purposes, to name a few:\n",
        "\n",
        "| NLTK module   | Fucntion                  | Link                                                         |\n",
        "|---------------|---------------------------|--------------------------------------------------------------|\n",
        "| nltk.tokenize | Tokenization              | [Documentation](https://www.nltk.org/api/nltk.tokenize.html) |\n",
        "| nltk.corpus   | Retrieve built-in corpora | [Documentation](https://www.nltk.org/nltk_data/)             |\n",
        "| nltk.tag      | Part-of-speech tagging    | [Documentation](https://www.nltk.org/api/nltk.tag.html)      |\n",
        "| nltk.stem     | Stemming                  | [Documentation](https://www.nltk.org/api/nltk.stem.html)     |\n",
        "| ...           | ...                       | ...                                                          |\n",
        "\n",
        "Let's import `stopwords` from the `nltk.corpus` module, which hosts a range of built-in corpora."
      ]
    },
    {
      "cell_type": "markdown",
      "source": [
        "**Al parecer nltk toma las comas (,) como un token, pero los slash (/) no son un token**"
      ],
      "metadata": {
        "id": "icf9qYeh5FdZ"
      },
      "id": "icf9qYeh5FdZ"
    },
    {
      "cell_type": "markdown",
      "source": [
        "*Se importa stopwords*"
      ],
      "metadata": {
        "id": "hwX9gGxD5h9Z"
      },
      "id": "hwX9gGxD5h9Z"
    },
    {
      "cell_type": "code",
      "execution_count": 32,
      "id": "84bbfced-8803-41ca-9cae-49bdadf8c000",
      "metadata": {
        "id": "84bbfced-8803-41ca-9cae-49bdadf8c000"
      },
      "outputs": [],
      "source": [
        "# Load predefined stop words from nltk\n",
        "from nltk.corpus import stopwords"
      ]
    },
    {
      "cell_type": "markdown",
      "id": "dee971a1-1189-4cb6-8317-4836f54c3ae2",
      "metadata": {
        "id": "dee971a1-1189-4cb6-8317-4836f54c3ae2"
      },
      "source": [
        "Let's specificy that we want to retrieve English stop words. The function simply returns a list of stop words, mostly function words, that `nltk` identifies."
      ]
    },
    {
      "cell_type": "markdown",
      "source": [
        "*Se llama a stopwords para crear una lista de los primeros 10 elementos del idioma inglés de este paquete*"
      ],
      "metadata": {
        "id": "krM-wehn5sWT"
      },
      "id": "krM-wehn5sWT"
    },
    {
      "cell_type": "code",
      "execution_count": 33,
      "id": "6009e1df-b720-4d22-a162-7fd250a58672",
      "metadata": {
        "id": "6009e1df-b720-4d22-a162-7fd250a58672",
        "outputId": "19f4cf5d-54e9-458a-b84d-cc6505b2d8cc",
        "colab": {
          "base_uri": "https://localhost:8080/"
        }
      },
      "outputs": [
        {
          "output_type": "execute_result",
          "data": {
            "text/plain": [
              "['a', 'about', 'above', 'after', 'again', 'against', 'ain', 'all', 'am', 'an']"
            ]
          },
          "metadata": {},
          "execution_count": 33
        }
      ],
      "source": [
        "# Print the first 10 stopwords\n",
        "stop = stopwords.words('english')\n",
        "stop[:10]"
      ]
    },
    {
      "cell_type": "markdown",
      "id": "4c3ec908-de6c-42c5-a370-f1b1df0032b3",
      "metadata": {
        "id": "4c3ec908-de6c-42c5-a370-f1b1df0032b3"
      },
      "source": [
        "### `spaCy`\n",
        "Other than `nltk`, we have another widely-used package called `spaCy`.\n",
        "\n",
        "`spaCy` has its own processing pipeline. It takes in a string of text, runs the `nlp` pipeline on it, and stores the processed text and its annotations in an object called `doc`. The `nlp` pipeline always performs tokenization, as well as [other text analysis components](https://spacy.io/usage/processing-pipelines#custom-components) requested by the user. These components are pretty similar to modules in `nltk`."
      ]
    },
    {
      "cell_type": "markdown",
      "id": "c6a0facd-4b75-41ac-920c-5ea044f7ae2e",
      "metadata": {
        "id": "c6a0facd-4b75-41ac-920c-5ea044f7ae2e"
      },
      "source": [
        "<img src='../images/spacy.png' alt=\"spacy pipeline\" width=\"700\">"
      ]
    },
    {
      "cell_type": "markdown",
      "id": "c3ef1eaf-2790-4928-b094-943f2803c6a0",
      "metadata": {
        "id": "c3ef1eaf-2790-4928-b094-943f2803c6a0"
      },
      "source": [
        "Note that we always start by initializing the `nlp` pipeline, depending on the language of the text. Here, we are loading a pretrained language model for English: `en_core_web_sm`. The name suggests that it is a lightweight model trained on some text data (e.g., blogs); see model descriptions [here](https://spacy.io/models/en#en_core_web_sm).\n",
        "\n",
        "This is the first time we encounter the concept of **pretraining**, though you may have heard it elsewhere. In the context of NLP, pretraining means that the model has been trained on a vast amount of data. As a result, it comes with a certain \"knowledge\" of word structure and grammar of the language.\n",
        "\n",
        "Therefore, when we apply the model to our own data, we can expect it to be reasonably accurate in performing various annotation tasks, e.g., tagging a word's part of speech, identifying the syntactic head of a phrase, and etc.\n",
        "\n",
        "Let's dive in! We'll first need to load the pretrained language model we installed earlier."
      ]
    },
    {
      "cell_type": "markdown",
      "source": [
        "*Se importa la librería spacy y se carga un modelo de lenguaje del idioma inglés*"
      ],
      "metadata": {
        "id": "r-LaPdCG6f-r"
      },
      "id": "r-LaPdCG6f-r"
    },
    {
      "cell_type": "code",
      "execution_count": 34,
      "id": "524dfc02-aa8f-4888-9f81-74a570db72b7",
      "metadata": {
        "id": "524dfc02-aa8f-4888-9f81-74a570db72b7"
      },
      "outputs": [],
      "source": [
        "import spacy\n",
        "nlp = spacy.load('en_core_web_sm')"
      ]
    },
    {
      "cell_type": "markdown",
      "id": "57d669c3-2f5a-41b6-893b-ea1d438b3a48",
      "metadata": {
        "id": "57d669c3-2f5a-41b6-893b-ea1d438b3a48"
      },
      "source": [
        "The `nlp` pipeline, by default, includes a set of components, which we can access via the `.pipe_names` attribute.\n",
        "\n",
        "You may notice that it dosen't include the tokenizer. Don't worry! Tokenizer is a special component that the pipeline always includes."
      ]
    },
    {
      "cell_type": "markdown",
      "source": [
        "*Se muestran componentes de pipe_names del objeto anterior*"
      ],
      "metadata": {
        "id": "isca5_Wk7Mke"
      },
      "id": "isca5_Wk7Mke"
    },
    {
      "cell_type": "code",
      "execution_count": 35,
      "id": "6d581ca5-43f8-4ef9-b099-2fc92c324581",
      "metadata": {
        "id": "6d581ca5-43f8-4ef9-b099-2fc92c324581",
        "outputId": "901943e1-69f1-4450-826b-7ddd46ab2a27",
        "colab": {
          "base_uri": "https://localhost:8080/"
        }
      },
      "outputs": [
        {
          "output_type": "execute_result",
          "data": {
            "text/plain": [
              "['tok2vec', 'tagger', 'parser', 'attribute_ruler', 'lemmatizer', 'ner']"
            ]
          },
          "metadata": {},
          "execution_count": 35
        }
      ],
      "source": [
        "# Retrieve components included in NLP pipeline\n",
        "nlp.pipe_names"
      ]
    },
    {
      "cell_type": "markdown",
      "id": "d1e37f91-d174-4101-bfc6-2859cb0fe5cc",
      "metadata": {
        "id": "d1e37f91-d174-4101-bfc6-2859cb0fe5cc"
      },
      "source": [
        "Let's run the `nlp` pipeline on our example tweet data, and assign it to a variable `doc`."
      ]
    },
    {
      "cell_type": "markdown",
      "source": [
        "*Se aplica el modelo spacy al tweet de la línea 7 del Dataframe*"
      ],
      "metadata": {
        "id": "IpFLGE3m7fwA"
      },
      "id": "IpFLGE3m7fwA"
    },
    {
      "cell_type": "code",
      "execution_count": 36,
      "id": "618e8558-625d-4546-8109-63f9bae9790f",
      "metadata": {
        "id": "618e8558-625d-4546-8109-63f9bae9790f"
      },
      "outputs": [],
      "source": [
        "# Apply the pipeline to example tweet\n",
        "doc = nlp(tweets['text'][7])"
      ]
    },
    {
      "cell_type": "markdown",
      "id": "54325d60-5c5c-488d-baf2-7eed4de2c031",
      "metadata": {
        "id": "54325d60-5c5c-488d-baf2-7eed4de2c031"
      },
      "source": [
        "Under the hood, the `doc` object contains the tokens (created by the tokenizer) and their annotations (created by other components), which are [linguistic features](\n",
        "https://spacy.io/usage/linguistic-features) useful for text analysis. We retrieve the token and its annotations by accessing corresponding attributes.\n",
        "\n",
        "| Attribute      | Annotation                              | Link                                                                      |\n",
        "|----------------|-----------------------------------------|---------------------------------------------------------------------------|\n",
        "| token.text     | The token in verbatim text              | [Documentation](https://spacy.io/api/token#attributes)                    |\n",
        "| token.is_stop  | Whether the token is a stop word        | [Documentation](https://spacy.io/api/attributes#_title)                   |\n",
        "| token.is_punct | Whether the token is a punctuation mark | [Documentation](https://spacy.io/api/attributes#_title)                   |\n",
        "| token.lemma_   | The base form of the token              | [Documentation](https://spacy.io/usage/linguistic-features#lemmatization) |\n",
        "| token.pos_     | The simple POS-tag of the token         | [Documentation](https://spacy.io/usage/linguistic-features#pos-tagging)   |\n",
        "| ...            | ...                                     | ...                                                                       |"
      ]
    },
    {
      "cell_type": "markdown",
      "id": "2e9f23c8-a157-44a7-a6ec-6894aec1a595",
      "metadata": {
        "id": "2e9f23c8-a157-44a7-a6ec-6894aec1a595"
      },
      "source": [
        "Let's first get the tokens themselves! We'll iterate over the `doc` object and retrieve the text of each token."
      ]
    },
    {
      "cell_type": "markdown",
      "source": [
        "*Se utiliza spacy_tokens para tokenizar el texto*"
      ],
      "metadata": {
        "id": "ag3S3wKN7-Rr"
      },
      "id": "ag3S3wKN7-Rr"
    },
    {
      "cell_type": "code",
      "execution_count": 37,
      "id": "4c71efee-e6cf-46c4-9198-593304f6560d",
      "metadata": {
        "id": "4c71efee-e6cf-46c4-9198-593304f6560d",
        "outputId": "c80cb871-bb56-46bb-8ff5-5529ff806361",
        "colab": {
          "base_uri": "https://localhost:8080/"
        }
      },
      "outputs": [
        {
          "output_type": "execute_result",
          "data": {
            "text/plain": [
              "['@VirginAmerica',\n",
              " 'Really',\n",
              " 'missed',\n",
              " 'a',\n",
              " 'prime',\n",
              " 'opportunity',\n",
              " 'for',\n",
              " 'Men',\n",
              " 'Without',\n",
              " 'Hats',\n",
              " 'parody',\n",
              " ',',\n",
              " 'there',\n",
              " '.',\n",
              " 'https://t.co/mWpG7grEZP']"
            ]
          },
          "metadata": {},
          "execution_count": 37
        }
      ],
      "source": [
        "# Get the verbatim texts of tokens\n",
        "spacy_tokens = [token.text for token in doc]\n",
        "spacy_tokens"
      ]
    },
    {
      "cell_type": "markdown",
      "source": [
        "*Se utiliza nltk_tokens para tokenizar el texto*"
      ],
      "metadata": {
        "id": "5EVHCrE5PqNI"
      },
      "id": "5EVHCrE5PqNI"
    },
    {
      "cell_type": "code",
      "execution_count": 38,
      "id": "f4fc23f0-c699-45e6-ad62-e131036d601f",
      "metadata": {
        "id": "f4fc23f0-c699-45e6-ad62-e131036d601f",
        "outputId": "dc4948ca-b659-48c7-ac25-1cff63ebe69b",
        "colab": {
          "base_uri": "https://localhost:8080/"
        }
      },
      "outputs": [
        {
          "output_type": "execute_result",
          "data": {
            "text/plain": [
              "['@',\n",
              " 'VirginAmerica',\n",
              " 'Really',\n",
              " 'missed',\n",
              " 'a',\n",
              " 'prime',\n",
              " 'opportunity',\n",
              " 'for',\n",
              " 'Men',\n",
              " 'Without',\n",
              " 'Hats',\n",
              " 'parody',\n",
              " ',',\n",
              " 'there',\n",
              " '.',\n",
              " 'https',\n",
              " ':',\n",
              " '//t.co/mWpG7grEZP']"
            ]
          },
          "metadata": {},
          "execution_count": 38
        }
      ],
      "source": [
        "# Get the NLTK tokens\n",
        "nltk_tokens"
      ]
    },
    {
      "cell_type": "markdown",
      "id": "a0ace59e-40e0-42b3-9f2b-d30ac94dccab",
      "metadata": {
        "id": "a0ace59e-40e0-42b3-9f2b-d30ac94dccab"
      },
      "source": [
        "🔔 **Question**: Let's pause for a minute to compare the tokens generated by `nltk` and `spaCy`. What have you noticed?\n",
        "\n",
        "Remember we can also access various annotations of these okens. For instance, one annotation `spaCy` offers is that it conveniently encodes whether a token is a stop word."
      ]
    },
    {
      "cell_type": "markdown",
      "source": [
        "**spaCy tokeniza de forma más inteligente orientado al uso linguístico, mientras que nltk tokeniza de forma más mecánica**"
      ],
      "metadata": {
        "id": "Jiof_VnpQzF5"
      },
      "id": "Jiof_VnpQzF5"
    },
    {
      "cell_type": "markdown",
      "source": [
        "*Se indica si las palabras son stopwords, devuelve un valor booleano*"
      ],
      "metadata": {
        "id": "Dqwvx-C1SB_x"
      },
      "id": "Dqwvx-C1SB_x"
    },
    {
      "cell_type": "code",
      "execution_count": 39,
      "id": "626af687-e986-4c97-af86-edf7dbd22c3e",
      "metadata": {
        "id": "626af687-e986-4c97-af86-edf7dbd22c3e",
        "outputId": "455b9499-112c-4179-d6e2-830c542eff06",
        "colab": {
          "base_uri": "https://localhost:8080/"
        }
      },
      "outputs": [
        {
          "output_type": "execute_result",
          "data": {
            "text/plain": [
              "[False,\n",
              " True,\n",
              " False,\n",
              " True,\n",
              " False,\n",
              " False,\n",
              " True,\n",
              " False,\n",
              " True,\n",
              " False,\n",
              " False,\n",
              " False,\n",
              " True,\n",
              " False,\n",
              " False]"
            ]
          },
          "metadata": {},
          "execution_count": 39
        }
      ],
      "source": [
        "# Retrieve the is_stop annotation\n",
        "spacy_stops = [token.is_stop for token in doc]\n",
        "\n",
        "# The results are boolean values\n",
        "spacy_stops"
      ]
    },
    {
      "cell_type": "markdown",
      "id": "3b6548b6-7e89-4f42-b8cb-bf7c93b34eb4",
      "metadata": {
        "id": "3b6548b6-7e89-4f42-b8cb-bf7c93b34eb4"
      },
      "source": [
        "## 🥊 Challenge 2: Remove Stop Words\n",
        "\n",
        "We have known how `nltk` and `spaCy` work as NLP packages. We've also demostrated how to identify stop words with each package.\n",
        "\n",
        "Let's write **two** functions to remove stop words from our text data.\n",
        "\n",
        "- Complete the function for stop words removal using `nltk`\n",
        "    - The starter code requires two arguments: the raw text input and a list of predefined stop words\n",
        "- Complete the function for stop words removal using `spaCy`\n",
        "    - The starter code requires one argument: the raw text input\n",
        "\n",
        "A friendly reminder before we dive in: both functions take raw text as input—that's a signal to perform tokenization on the raw text first!"
      ]
    },
    {
      "cell_type": "markdown",
      "source": [
        "*Se define una función para remover stopwords usando nltk*"
      ],
      "metadata": {
        "id": "xY1ewc-nV4oO"
      },
      "id": "xY1ewc-nV4oO"
    },
    {
      "cell_type": "code",
      "execution_count": 40,
      "id": "b24b5370-392f-420d-8c9e-78146d0fca29",
      "metadata": {
        "id": "b24b5370-392f-420d-8c9e-78146d0fca29"
      },
      "outputs": [],
      "source": [
        "\n",
        "def remove_stopword_nltk(raw_text, stopword):\n",
        "\n",
        "    # Step 1: Tokenization with nltk\n",
        "    ch2nltk_token = word_tokenize(raw_text)\n",
        "\n",
        "    # Step 2: Filter out tokens in the stop word list\n",
        "    filtered_tokens1 = [token for token in ch2nltk_token if token.lower() not in stopword]\n",
        "\n",
        "    # Step 3: Join the tokens back into a string\n",
        "    cleaned_text1 = ' '.join(filtered_tokens1)\n",
        "\n",
        "    return cleaned_text1\n",
        "\n"
      ]
    },
    {
      "cell_type": "markdown",
      "source": [
        "*Se define una función para remover stopwords usando spacy*"
      ],
      "metadata": {
        "id": "flENXYbMWDSN"
      },
      "id": "flENXYbMWDSN"
    },
    {
      "cell_type": "code",
      "execution_count": 41,
      "id": "65b5bbda-0af5-49a9-8f5e-77d61ab217e7",
      "metadata": {
        "id": "65b5bbda-0af5-49a9-8f5e-77d61ab217e7"
      },
      "outputs": [],
      "source": [
        "def remove_stopword_spacy(raw_text):\n",
        "\n",
        "    # Step 1: Apply the nlp pipeline\n",
        "     doc = nlp(raw_text)\n",
        "\n",
        "    # Step 2: Filter out tokens that are stop words\n",
        "     filtered_tokens2 = [token.text for token in doc if not token.is_stop]\n",
        "\n",
        "    # Step 3: Reconstruir el texto sin stopwords\n",
        "     cleaned_text2 = \" \".join(filtered_tokens2)\n",
        "\n",
        "     return cleaned_text2"
      ]
    },
    {
      "cell_type": "markdown",
      "source": [
        "*Ejemplo de función ntlk*"
      ],
      "metadata": {
        "id": "BSEfjpDqWFo3"
      },
      "id": "BSEfjpDqWFo3"
    },
    {
      "cell_type": "code",
      "execution_count": 42,
      "id": "f4c3b0da-2223-4d7f-9014-696498e804e6",
      "metadata": {
        "id": "f4c3b0da-2223-4d7f-9014-696498e804e6",
        "colab": {
          "base_uri": "https://localhost:8080/"
        },
        "outputId": "15f1302e-2099-4dbe-a328-206e825f86a2"
      },
      "outputs": [
        {
          "output_type": "stream",
          "name": "stdout",
          "text": [
            "simple example stopwords using nltk .\n"
          ]
        }
      ],
      "source": [
        "# remove_stopword_nltk(text, stop)\n",
        "stop1 = stopwords.words('english')\n",
        "\n",
        "print(remove_stopword_nltk(\"This is a simple example with stopwords using nltk.\", stop1))"
      ]
    },
    {
      "cell_type": "markdown",
      "source": [
        "*Ejemplo de función spacy*"
      ],
      "metadata": {
        "id": "6EKNpM0GWMiE"
      },
      "id": "6EKNpM0GWMiE"
    },
    {
      "cell_type": "code",
      "execution_count": 43,
      "id": "f83538ba-6bf1-49ca-90ec-b6532b1ffcb3",
      "metadata": {
        "id": "f83538ba-6bf1-49ca-90ec-b6532b1ffcb3",
        "colab": {
          "base_uri": "https://localhost:8080/"
        },
        "outputId": "64a47840-ec82-4eb9-db4d-6937ec8292cf"
      },
      "outputs": [
        {
          "output_type": "stream",
          "name": "stdout",
          "text": [
            "simple example stopwords spacy .\n"
          ]
        }
      ],
      "source": [
        "# remove_stopword_spacy(text)\n",
        "\n",
        "print(remove_stopword_spacy(\"This is a simple example with stopwords using spacy.\"))"
      ]
    },
    {
      "cell_type": "markdown",
      "id": "d3a6b1ec-87cc-4a08-a5dd-0210a9c56f0b",
      "metadata": {
        "id": "d3a6b1ec-87cc-4a08-a5dd-0210a9c56f0b"
      },
      "source": [
        "## 🎬 **Demo**: Powerful Features from `spaCy`\n",
        "\n",
        "`spaCy`'s nlp pipeline includes a number of linguistic annotations, which could be very useful for text analysis.\n",
        "\n",
        "For instance, we can access more annotations such as the lemma, the part-of-speech tag and its meaning, and whether the token looks like URLs."
      ]
    },
    {
      "cell_type": "markdown",
      "source": [
        "*Se imprime una tabla donde se observan atributos linguísticos principales: texto original, lema, categoría gramatical (abreviada y explicada) y formato de url*"
      ],
      "metadata": {
        "id": "-DML-MTcYjUV"
      },
      "id": "-DML-MTcYjUV"
    },
    {
      "cell_type": "code",
      "execution_count": 44,
      "id": "eb6c7d93-51a3-4fb8-8321-cb672f4f1b8f",
      "metadata": {
        "id": "eb6c7d93-51a3-4fb8-8321-cb672f4f1b8f",
        "outputId": "26663a34-37b0-4a89-c8d5-07f81a90a254",
        "colab": {
          "base_uri": "https://localhost:8080/"
        }
      },
      "outputs": [
        {
          "output_type": "stream",
          "name": "stdout",
          "text": [
            "@VirginAmerica           | @VirginAmerica           | PROPN        | proper noun  | 0            |\n",
            "Really                   | really                   | ADV          | adverb       | 0            |\n",
            "missed                   | miss                     | VERB         | verb         | 0            |\n",
            "a                        | a                        | DET          | determiner   | 0            |\n",
            "prime                    | prime                    | ADJ          | adjective    | 0            |\n",
            "opportunity              | opportunity              | NOUN         | noun         | 0            |\n",
            "for                      | for                      | ADP          | adposition   | 0            |\n",
            "Men                      | man                      | NOUN         | noun         | 0            |\n",
            "Without                  | without                  | ADP          | adposition   | 0            |\n",
            "Hats                     | Hats                     | PROPN        | proper noun  | 0            |\n",
            "parody                   | parody                   | NOUN         | noun         | 0            |\n",
            ",                        | ,                        | PUNCT        | punctuation  | 0            |\n",
            "there                    | there                    | ADV          | adverb       | 0            |\n",
            ".                        | .                        | PUNCT        | punctuation  | 0            |\n",
            "https://t.co/mWpG7grEZP  | https://t.co/mWpG7grEZP  | PROPN        | proper noun  | 1            |\n"
          ]
        }
      ],
      "source": [
        "# Print tokens and their annotations\n",
        "for token in doc:\n",
        "    print(f\"{token.text:<24} | {token.lemma_:<24} | {token.pos_:<12} | {spacy.explain(token.pos_):<12} | {token.like_url:<12} |\")"
      ]
    },
    {
      "cell_type": "markdown",
      "id": "17388e0c-88b6-4cd9-8d2b-adb7f10b5330",
      "metadata": {
        "id": "17388e0c-88b6-4cd9-8d2b-adb7f10b5330"
      },
      "source": [
        "As you can imagine, it is typical for this dataset to contain place names and airport codes. It would be cool if we are able to identify them and extract them from tweets."
      ]
    },
    {
      "cell_type": "markdown",
      "source": [
        "*Se llama y se imprime dos tweets*"
      ],
      "metadata": {
        "id": "tLI1wem1ZORY"
      },
      "id": "tLI1wem1ZORY"
    },
    {
      "cell_type": "code",
      "execution_count": 45,
      "id": "cb489f78-fbb2-497b-a36d-3400c00c9b9d",
      "metadata": {
        "id": "cb489f78-fbb2-497b-a36d-3400c00c9b9d",
        "outputId": "60343eb7-2393-4ce9-f41c-dd16ef2663fc",
        "colab": {
          "base_uri": "https://localhost:8080/"
        }
      },
      "outputs": [
        {
          "output_type": "stream",
          "name": "stdout",
          "text": [
            "@JetBlue Vegas, San Francisco, Baltimore, San Diego and Philadelphia so far! I'm a very frequent business traveler.\n",
            "==================================================\n",
            "@VirginAmerica Flying LAX to SFO and after looking at the awesome movie lineup I actually wish I was on a long haul.\n"
          ]
        }
      ],
      "source": [
        "# Print example tweets with place names and airport codes\n",
        "tweet_city = tweets['text'][8273]\n",
        "tweet_airport = tweets['text'][502]\n",
        "print(tweet_city)\n",
        "print(f\"{'=' * 50}\")\n",
        "print(tweet_airport)"
      ]
    },
    {
      "cell_type": "markdown",
      "id": "013990a5-5e07-4a45-9427-fcd33840d3b8",
      "metadata": {
        "id": "013990a5-5e07-4a45-9427-fcd33840d3b8"
      },
      "source": [
        "We can use the \"ner\" ([Named Entity Recognition](https://en.wikipedia.org/wiki/Named-entity_recognition)) component to identify entities and their categories."
      ]
    },
    {
      "cell_type": "markdown",
      "source": [
        "*Se imprime una tabla donde se observan entidades detectadas en el texto, mostrando el nombre, la posición dentro del texto, y el tipo de entidad según spaCy*"
      ],
      "metadata": {
        "id": "eGgS6h9GZhyN"
      },
      "id": "eGgS6h9GZhyN"
    },
    {
      "cell_type": "code",
      "execution_count": 46,
      "id": "b9e63519-5991-49fa-9a5d-be9f9b408ad1",
      "metadata": {
        "id": "b9e63519-5991-49fa-9a5d-be9f9b408ad1",
        "outputId": "b07bd1d2-dff2-455e-ac2a-7cac92d1eb52",
        "colab": {
          "base_uri": "https://localhost:8080/"
        }
      },
      "outputs": [
        {
          "output_type": "stream",
          "name": "stdout",
          "text": [
            "Vegas           | 9          | 14         | GPE       \n",
            "San Francisco   | 16         | 29         | GPE       \n",
            "Baltimore       | 31         | 40         | GPE       \n",
            "San Diego       | 42         | 51         | GPE       \n",
            "Philadelphia    | 56         | 68         | GPE       \n"
          ]
        }
      ],
      "source": [
        "# Print entities identified from the text\n",
        "doc_city = nlp(tweet_city)\n",
        "for ent in doc_city.ents:\n",
        "    print(f\"{ent.text:<15} | {ent.start_char:<10} | {ent.end_char:<10} | {ent.label_:<10}\")"
      ]
    },
    {
      "cell_type": "markdown",
      "id": "7b933ed0-7018-450c-b0a6-fb76cb6d5be9",
      "metadata": {
        "id": "7b933ed0-7018-450c-b0a6-fb76cb6d5be9"
      },
      "source": [
        "We can also use `displacy` to highlight entities identified in the text, and at the same time, annotate the entity category.\n",
        "\n",
        "In the following example, we have four `GPE` (i.e., geopolitical entities, usually countries and cities) identified."
      ]
    },
    {
      "cell_type": "markdown",
      "source": [
        "*Se usa displacy para resaltar los resultados*"
      ],
      "metadata": {
        "id": "2bc7AuPwaeoq"
      },
      "id": "2bc7AuPwaeoq"
    },
    {
      "cell_type": "code",
      "execution_count": 47,
      "id": "7a5a5219-af1f-445c-a35b-7c49d739a91b",
      "metadata": {
        "id": "7a5a5219-af1f-445c-a35b-7c49d739a91b",
        "outputId": "cdd5e495-e99c-43eb-aca8-f4efc0657042",
        "colab": {
          "base_uri": "https://localhost:8080/",
          "height": 87
        }
      },
      "outputs": [
        {
          "output_type": "display_data",
          "data": {
            "text/plain": [
              "<IPython.core.display.HTML object>"
            ],
            "text/html": [
              "<span class=\"tex2jax_ignore\"><div class=\"entities\" style=\"line-height: 2.5; direction: ltr\">@JetBlue \n",
              "<mark class=\"entity\" style=\"background: #feca74; padding: 0.45em 0.6em; margin: 0 0.25em; line-height: 1; border-radius: 0.35em;\">\n",
              "    Vegas\n",
              "    <span style=\"font-size: 0.8em; font-weight: bold; line-height: 1; border-radius: 0.35em; vertical-align: middle; margin-left: 0.5rem\">GPE</span>\n",
              "</mark>\n",
              ", \n",
              "<mark class=\"entity\" style=\"background: #feca74; padding: 0.45em 0.6em; margin: 0 0.25em; line-height: 1; border-radius: 0.35em;\">\n",
              "    San Francisco\n",
              "    <span style=\"font-size: 0.8em; font-weight: bold; line-height: 1; border-radius: 0.35em; vertical-align: middle; margin-left: 0.5rem\">GPE</span>\n",
              "</mark>\n",
              ", \n",
              "<mark class=\"entity\" style=\"background: #feca74; padding: 0.45em 0.6em; margin: 0 0.25em; line-height: 1; border-radius: 0.35em;\">\n",
              "    Baltimore\n",
              "    <span style=\"font-size: 0.8em; font-weight: bold; line-height: 1; border-radius: 0.35em; vertical-align: middle; margin-left: 0.5rem\">GPE</span>\n",
              "</mark>\n",
              ", \n",
              "<mark class=\"entity\" style=\"background: #feca74; padding: 0.45em 0.6em; margin: 0 0.25em; line-height: 1; border-radius: 0.35em;\">\n",
              "    San Diego\n",
              "    <span style=\"font-size: 0.8em; font-weight: bold; line-height: 1; border-radius: 0.35em; vertical-align: middle; margin-left: 0.5rem\">GPE</span>\n",
              "</mark>\n",
              " and \n",
              "<mark class=\"entity\" style=\"background: #feca74; padding: 0.45em 0.6em; margin: 0 0.25em; line-height: 1; border-radius: 0.35em;\">\n",
              "    Philadelphia\n",
              "    <span style=\"font-size: 0.8em; font-weight: bold; line-height: 1; border-radius: 0.35em; vertical-align: middle; margin-left: 0.5rem\">GPE</span>\n",
              "</mark>\n",
              " so far! I'm a very frequent business traveler.</div></span>"
            ]
          },
          "metadata": {}
        }
      ],
      "source": [
        "# Visualize the identified entities\n",
        "from spacy import displacy\n",
        "displacy.render(doc_city, style='ent', jupyter=True)"
      ]
    },
    {
      "cell_type": "markdown",
      "id": "f5d7953b-04a1-46d0-817a-db29edd8c83b",
      "metadata": {
        "id": "f5d7953b-04a1-46d0-817a-db29edd8c83b"
      },
      "source": [
        "Let's give it a try with another example."
      ]
    },
    {
      "cell_type": "markdown",
      "source": [
        "*Busca entidades en el archivo y las imprime con su posición dentro del texto y la categoría*"
      ],
      "metadata": {
        "id": "d-M4OcxGbMAS"
      },
      "id": "d-M4OcxGbMAS"
    },
    {
      "cell_type": "code",
      "execution_count": 48,
      "id": "9246c7e3-8990-4d47-a355-deb63dbd1cc7",
      "metadata": {
        "id": "9246c7e3-8990-4d47-a355-deb63dbd1cc7",
        "outputId": "735b6006-3d40-4827-84bb-c24643f4b41c",
        "colab": {
          "base_uri": "https://localhost:8080/"
        }
      },
      "outputs": [
        {
          "output_type": "stream",
          "name": "stdout",
          "text": [
            "SFO             | 29         | 32         | ORG       \n"
          ]
        }
      ],
      "source": [
        "# Print entities identified from the text\n",
        "doc_airport = nlp(tweet_airport)\n",
        "for ent in doc_airport.ents:\n",
        "     print(f\"{ent.text:<15} | {ent.start_char:<10} | {ent.end_char:<10} | {ent.label_:<10}\")"
      ]
    },
    {
      "cell_type": "markdown",
      "id": "1df38472-3193-44c5-9b2f-e311ce9d42e0",
      "metadata": {
        "id": "1df38472-3193-44c5-9b2f-e311ce9d42e0"
      },
      "source": [
        "Interesting that airport codes are identified as `ORG`—organizations, and the tweet handle as `CARDINAL`."
      ]
    },
    {
      "cell_type": "markdown",
      "source": [
        "*Resalta los resultados de las entidades encontradas*"
      ],
      "metadata": {
        "id": "uM4M02Lmbcdq"
      },
      "id": "uM4M02Lmbcdq"
    },
    {
      "cell_type": "code",
      "execution_count": 49,
      "id": "7e4bf382-4c57-4b78-a37f-fc1f6cb1d565",
      "metadata": {
        "id": "7e4bf382-4c57-4b78-a37f-fc1f6cb1d565",
        "outputId": "1a39c435-d01d-4e9a-dcb3-eeb202b082f2",
        "colab": {
          "base_uri": "https://localhost:8080/",
          "height": 52
        }
      },
      "outputs": [
        {
          "output_type": "display_data",
          "data": {
            "text/plain": [
              "<IPython.core.display.HTML object>"
            ],
            "text/html": [
              "<span class=\"tex2jax_ignore\"><div class=\"entities\" style=\"line-height: 2.5; direction: ltr\">@VirginAmerica Flying LAX to \n",
              "<mark class=\"entity\" style=\"background: #7aecec; padding: 0.45em 0.6em; margin: 0 0.25em; line-height: 1; border-radius: 0.35em;\">\n",
              "    SFO\n",
              "    <span style=\"font-size: 0.8em; font-weight: bold; line-height: 1; border-radius: 0.35em; vertical-align: middle; margin-left: 0.5rem\">ORG</span>\n",
              "</mark>\n",
              " and after looking at the awesome movie lineup I actually wish I was on a long haul.</div></span>"
            ]
          },
          "metadata": {}
        }
      ],
      "source": [
        "# Visualize the identified entities\n",
        "displacy.render(doc_airport, style='ent', jupyter=True)"
      ]
    },
    {
      "cell_type": "markdown",
      "id": "467d6f28-effc-4fe1-90e9-47c89dc5492d",
      "metadata": {
        "id": "467d6f28-effc-4fe1-90e9-47c89dc5492d"
      },
      "source": [
        "## Tokenizers Since LLMs\n",
        "\n",
        "So far, we've seen what tokenization looks like with two widely-used NLP packages. They work quite well in some settings, but not others. Recall that `nltk` struggles with URLs. Now, imagine the data we have is even messier, containing misspellings, recently coined words, foreign names, and etc (collectively called \"out of vocabulary\" or OOV words). In such circumstances, we might need a more powerful model to handle these complexities.\n",
        "\n",
        "In fact, tokenization schemes change substantially with **Large Language Models** (LLMs), which are models trained on an enormous amount of data from mixed sources. With that magnitude of data, LLMs are better at chunking a longer sequence into tokens and tokens into **subtokens**. These subtokens can be morphological units of a word, such as an affix, but they can also be parts of a word where the model sets a \"meaningful\" boundary.\n",
        "\n",
        "In this section, we will demonstrate tokenization in **BERT** (Bidirectional Encoder Representations from Transformers), which utilizes a tokenization algorithm called [**WordPiece**](https://huggingface.co/learn/nlp-course/en/chapter6/6).\n",
        "\n",
        "We will load the tokenizer of BERT from the package `transformers`, which hosts a number of Transformer-based LLMs (e.g., BERT). We won't go into the architecture of Transformer in this workshop, but feel free to check out the D-lab workshop on [GPT Fundamentals](https://github.com/dlab-berkeley/GPT-Fundamentals)!"
      ]
    },
    {
      "cell_type": "markdown",
      "id": "b5e1509b-5b9e-456d-909f-a6b5099c48c8",
      "metadata": {
        "id": "b5e1509b-5b9e-456d-909f-a6b5099c48c8"
      },
      "source": [
        "### WordPiece Tokenization\n",
        "\n",
        "Note that BERT comes in a variety of versions. The one we will explore today is `bert-base-uncased`. This model has a moderate size (referred to as `base`) and is case-insensitive, meaning the input text will be lowercased by default."
      ]
    },
    {
      "cell_type": "markdown",
      "source": [
        "*Se importa BertTokenizer y se preparada el tokenizador de BerT para dividir texto en sub-palabras, normalizar palabras y asignar un ID a cada token*"
      ],
      "metadata": {
        "id": "ky4duFa6b0jc"
      },
      "id": "ky4duFa6b0jc"
    },
    {
      "cell_type": "code",
      "execution_count": 50,
      "id": "7927226c-d04e-4117-9c49-3d355611b209",
      "metadata": {
        "scrolled": true,
        "id": "7927226c-d04e-4117-9c49-3d355611b209",
        "colab": {
          "base_uri": "https://localhost:8080/",
          "height": 269,
          "referenced_widgets": [
            "36f0978e5a99492487262f7c35bd0711",
            "ebc6b3d34744460a93473ea21f40b71b",
            "1c30ae733a5e41d2a6a3e85f7f591f87",
            "08c41980279446bdaeaa3769e3b3e835",
            "6e5656c122fd4ff6aaf043610e701270",
            "2905907071a04d2295a555428bc05b10",
            "328ffe8f0eaa43d681b15ca97288e080",
            "32715cefde9742cea9f6c5bd58d08db0",
            "6f81cf67ca1b4f0eb1f0760f9614060b",
            "0ac40bb7850b4333ad87cc44b320a543",
            "91df4d2fc6b246519b8cde482855e428",
            "44475c49c4e240049e54cea823f71e69",
            "787c8b547dee4571bf3fa6e8ca0c7945",
            "ec4ede21d1204666b32b999336c95f9c",
            "8cc76bd45ed24a76a17942a01cfcd395",
            "b72eed6d44df44b7967d66ec04b8c73e",
            "af800ce5eb68403abbcd356ba212303b",
            "c2aebfa95be449b684e024bba9701c1a",
            "7287cb8ea28948acbb50f8eb0f18ad08",
            "e12d3d97d2d84859ba03f9114c2057d7",
            "8a7e5a66cfdd4286a1337b591aa6f0ba",
            "93d6d597863a44d1b50feed4ad28c786",
            "7a23a46fee074123a6fc0868e5417d9f",
            "befdc4f951fa4a669dec29b1f2563727",
            "187d0b8c1b464d338e2188647de259fa",
            "62a03a1465b3458ea7b2c8153b07d3a8",
            "55a8db9ffe7b4ffbab27f756cbe7a823",
            "11890c0bf9144892ad2f29e5f8ae1845",
            "decb9be11eb74c49a9727aa499f102ad",
            "071e5d0e06a9494ab6651cf8ebd6494a",
            "e14191cbd29e495985a8fe214143f531",
            "0ee828f1bb87434b8c9ab466c796c0c6",
            "f4c31035acde4ffb97f907fb12d20ab7",
            "7754bf6661764b6d8d5e7f3150d44ee3",
            "129f45a43e2247b29459d8bf8066ead8",
            "b64d94474fb047518f2c358110485af2",
            "ce75689758364c5cb67cbe2d90876f74",
            "09d4c3ef27594dc99593cb1d28faff67",
            "8ec4c5bdbaf14bcb9572dce6d3c0550d",
            "9cddf764cdfb43c2a2c94f4a4b80a9bb",
            "12814f4deaad43d6ac4f04da4dbd12a9",
            "8ebe6623de4e46ab9dd8b7d5caf3b6cb",
            "bc776784d59541f2be1ebc57ddf061fe",
            "40cec7d465ae402ca2a6441119631102"
          ]
        },
        "outputId": "5eb217d4-4404-4a54-e533-db073e39b2f1"
      },
      "outputs": [
        {
          "output_type": "stream",
          "name": "stderr",
          "text": [
            "/usr/local/lib/python3.12/dist-packages/huggingface_hub/utils/_auth.py:94: UserWarning: \n",
            "The secret `HF_TOKEN` does not exist in your Colab secrets.\n",
            "To authenticate with the Hugging Face Hub, create a token in your settings tab (https://huggingface.co/settings/tokens), set it as secret in your Google Colab and restart your session.\n",
            "You will be able to reuse this secret in all of your notebooks.\n",
            "Please note that authentication is recommended but still optional to access public models or datasets.\n",
            "  warnings.warn(\n"
          ]
        },
        {
          "output_type": "display_data",
          "data": {
            "text/plain": [
              "tokenizer_config.json:   0%|          | 0.00/48.0 [00:00<?, ?B/s]"
            ],
            "application/vnd.jupyter.widget-view+json": {
              "version_major": 2,
              "version_minor": 0,
              "model_id": "36f0978e5a99492487262f7c35bd0711"
            }
          },
          "metadata": {}
        },
        {
          "output_type": "display_data",
          "data": {
            "text/plain": [
              "vocab.txt:   0%|          | 0.00/232k [00:00<?, ?B/s]"
            ],
            "application/vnd.jupyter.widget-view+json": {
              "version_major": 2,
              "version_minor": 0,
              "model_id": "44475c49c4e240049e54cea823f71e69"
            }
          },
          "metadata": {}
        },
        {
          "output_type": "display_data",
          "data": {
            "text/plain": [
              "tokenizer.json:   0%|          | 0.00/466k [00:00<?, ?B/s]"
            ],
            "application/vnd.jupyter.widget-view+json": {
              "version_major": 2,
              "version_minor": 0,
              "model_id": "7a23a46fee074123a6fc0868e5417d9f"
            }
          },
          "metadata": {}
        },
        {
          "output_type": "display_data",
          "data": {
            "text/plain": [
              "config.json:   0%|          | 0.00/570 [00:00<?, ?B/s]"
            ],
            "application/vnd.jupyter.widget-view+json": {
              "version_major": 2,
              "version_minor": 0,
              "model_id": "7754bf6661764b6d8d5e7f3150d44ee3"
            }
          },
          "metadata": {}
        }
      ],
      "source": [
        "# Load BERT tokenizer in\n",
        "from transformers import BertTokenizer\n",
        "\n",
        "# Initialize the tokenizer\n",
        "tokenizer = BertTokenizer.from_pretrained('bert-base-uncased')"
      ]
    },
    {
      "cell_type": "markdown",
      "id": "128cfb38-274e-4d75-9d14-8744020fe49c",
      "metadata": {
        "id": "128cfb38-274e-4d75-9d14-8744020fe49c"
      },
      "source": [
        "The tokenizer has multiple functions, as we will see in a minute. Now we want to access the `.tokenize()` function from the tokenizer.\n",
        "\n",
        "Let's tokenize an example tweet below. What have you noticed?"
      ]
    },
    {
      "cell_type": "markdown",
      "source": [
        "*Se imprime un tweet, lo pasa por el tokenizador de BerT y  muestra la descomposición con su modelo de tokens*"
      ],
      "metadata": {
        "id": "DDCj1qmDc6Q2"
      },
      "id": "DDCj1qmDc6Q2"
    },
    {
      "cell_type": "code",
      "execution_count": 51,
      "id": "62649193-bb00-4ae8-9102-bce3d1dfb6c8",
      "metadata": {
        "id": "62649193-bb00-4ae8-9102-bce3d1dfb6c8",
        "outputId": "37e8a531-8517-4ab7-ee59-b3ae225d1248",
        "colab": {
          "base_uri": "https://localhost:8080/"
        }
      },
      "outputs": [
        {
          "output_type": "stream",
          "name": "stdout",
          "text": [
            "Text: @VirginAmerica Just DM'd. Same issue persisting.\n",
            "==================================================\n",
            "Tokens: ['@', 'virgin', '##ame', '##rica', 'just', 'd', '##m', \"'\", 'd', '.', 'same', 'issue', 'persist', '##ing', '.']\n",
            "Number of tokens: 15\n"
          ]
        }
      ],
      "source": [
        "# Select an example tweet from dataframe\n",
        "text = tweets['text'][194]\n",
        "print(f\"Text: {text}\")\n",
        "print(f\"{'=' * 50}\")\n",
        "\n",
        "# Apply tokenizer\n",
        "tokens = tokenizer.tokenize(text)\n",
        "print(f\"Tokens: {tokens}\")\n",
        "print(f\"Number of tokens: {len(tokens)}\")"
      ]
    },
    {
      "cell_type": "markdown",
      "id": "bc4f780e-207c-4d3d-b1b6-063c6d118945",
      "metadata": {
        "id": "bc4f780e-207c-4d3d-b1b6-063c6d118945"
      },
      "source": [
        "The double \"hashtag\" symbols (`##`) refer to a subword token—a segment separated from the previous token.\n",
        "\n",
        "🔔 **Question**: Do these subwords make sense to you?\n",
        "\n",
        "One significant development with LLMs is that each token is assigned an ID from its vocabulary. Our computer does not understand text in its raw form, so each token is translated into an ID. These IDs are the inputs that the model accesses and operates on.\n",
        "\n",
        "Tokens and IDs can be converted bidirectionally, for example:"
      ]
    },
    {
      "cell_type": "markdown",
      "source": [
        "**No tienen mucho sentido las sub-palabras**"
      ],
      "metadata": {
        "id": "LLkWkdt1cnl1"
      },
      "id": "LLkWkdt1cnl1"
    },
    {
      "cell_type": "markdown",
      "source": [
        "*Se muestra como los Tokens se convierten en IDs y viceversa*"
      ],
      "metadata": {
        "id": "t49fn7NNdJ-c"
      },
      "id": "t49fn7NNdJ-c"
    },
    {
      "cell_type": "code",
      "execution_count": 52,
      "id": "3112a63d-82b6-4fc0-a904-ab86f8740653",
      "metadata": {
        "id": "3112a63d-82b6-4fc0-a904-ab86f8740653",
        "outputId": "f0ddb377-15c4-488f-fd96-a992ca175307",
        "colab": {
          "base_uri": "https://localhost:8080/"
        }
      },
      "outputs": [
        {
          "output_type": "stream",
          "name": "stdout",
          "text": [
            "ID of just is: 2074\n",
            "Token 2074 is: just\n"
          ]
        }
      ],
      "source": [
        "# Get the input ID of the word\n",
        "print(f\"ID of just is: {tokenizer.vocab['just']}\")\n",
        "\n",
        "# Get the text of the input ID\n",
        "print(f\"Token 2074 is: {tokenizer.decode([2074])}\")"
      ]
    },
    {
      "cell_type": "markdown",
      "id": "2b9fd13d-f26e-480c-b43e-2b5fbc4898cd",
      "metadata": {
        "id": "2b9fd13d-f26e-480c-b43e-2b5fbc4898cd"
      },
      "source": [
        "Let's convert tokens to input IDs."
      ]
    },
    {
      "cell_type": "markdown",
      "source": [
        "*Muestra la cantidad de tokens, los convierte en IDs y los imprime*"
      ],
      "metadata": {
        "id": "IbEo4r0kdUFy"
      },
      "id": "IbEo4r0kdUFy"
    },
    {
      "cell_type": "code",
      "execution_count": 53,
      "id": "8d125e1d-2560-4136-829c-b1c11e34636c",
      "metadata": {
        "id": "8d125e1d-2560-4136-829c-b1c11e34636c",
        "outputId": "8c694550-0d55-45d9-d931-4f6d275134f0",
        "colab": {
          "base_uri": "https://localhost:8080/"
        }
      },
      "outputs": [
        {
          "output_type": "stream",
          "name": "stdout",
          "text": [
            "Number of input IDs: 15\n",
            "Input IDs of text: [1030, 6261, 14074, 14735, 2074, 1040, 2213, 1005, 1040, 1012, 2168, 3277, 29486, 2075, 1012]\n"
          ]
        }
      ],
      "source": [
        "# Convert a list of tokens to a list of input IDs\n",
        "input_ids = tokenizer.convert_tokens_to_ids(tokens)\n",
        "print(f\"Number of input IDs: {len(input_ids)}\")\n",
        "print(f\"Input IDs of text: {input_ids}\")"
      ]
    },
    {
      "cell_type": "markdown",
      "id": "f25a1a14-a6db-414b-a1a8-c6be73c81a15",
      "metadata": {
        "id": "f25a1a14-a6db-414b-a1a8-c6be73c81a15"
      },
      "source": [
        "### Special Tokens\n",
        "\n",
        "In addition to the tokens and subtokens discussed above, BERT also makes use of three special tokens: `SEP`, `CLS`, and `UNK`. The `SEP` token acts as a sentence terminator, commonly known as an `EOS` (End of Sentence) token. The `UNK` token represents any token that is not found in the vocabulary, hence \"unknown\" tokens. The `CLS` token is added to the beginning of the sentence. It originates from text classification tasks (e.g., spam detection), where reseachers found it useful to have a token that aggregates the information of the entire sentence for classification purposes.\n",
        "\n",
        "When we apply `tokenizer()` directly to our text data, we are asking BERT to **encode** the text for us. This involves multiple steps:\n",
        "- Tokenize the text\n",
        "- Add special tokens\n",
        "- Convert tokens to input IDs\n",
        "- Other model-specific processes\n",
        "  \n",
        "Let's print them out."
      ]
    },
    {
      "cell_type": "markdown",
      "source": [
        "*Muestra los IDs después de pasarlos por el tokenizer, se agregan IDs de inicio de la oración, fin de la oración, y otros tokens especiales."
      ],
      "metadata": {
        "id": "DhXcoM4Od7um"
      },
      "id": "DhXcoM4Od7um"
    },
    {
      "cell_type": "code",
      "execution_count": 54,
      "id": "21479c25-7a9a-4fac-ba09-1812575b8170",
      "metadata": {
        "id": "21479c25-7a9a-4fac-ba09-1812575b8170",
        "outputId": "fcaf4240-ba21-46f8-ffc7-452a37ea7ec4",
        "colab": {
          "base_uri": "https://localhost:8080/"
        }
      },
      "outputs": [
        {
          "output_type": "stream",
          "name": "stdout",
          "text": [
            "Number of input IDs: 17\n",
            "IDs from tokenizer: [101, 1030, 6261, 14074, 14735, 2074, 1040, 2213, 1005, 1040, 1012, 2168, 3277, 29486, 2075, 1012, 102]\n"
          ]
        }
      ],
      "source": [
        "# Get the input IDs by providing the key\n",
        "input_ids_from_tokenizer = tokenizer(text)['input_ids']\n",
        "print(f\"Number of input IDs: {len(input_ids_from_tokenizer)}\")\n",
        "print(f\"IDs from tokenizer: {input_ids_from_tokenizer}\")"
      ]
    },
    {
      "cell_type": "markdown",
      "id": "bb6ea98e-7374-488a-a804-46cab166125c",
      "metadata": {
        "id": "bb6ea98e-7374-488a-a804-46cab166125c"
      },
      "source": [
        "It looks like we have two more tokens added: 101 and 102.\n",
        "\n",
        "Let's convert them to texts!"
      ]
    },
    {
      "cell_type": "markdown",
      "source": [
        "*Muestra los tokens 101 y 102, que son el inicio y fin de la oración respectivamente*"
      ],
      "metadata": {
        "id": "bGWBnxYxelHL"
      },
      "id": "bGWBnxYxelHL"
    },
    {
      "cell_type": "code",
      "execution_count": 55,
      "id": "82a18dc1-ca0d-4d5b-8ac6-f56cb44bf8e3",
      "metadata": {
        "id": "82a18dc1-ca0d-4d5b-8ac6-f56cb44bf8e3",
        "outputId": "5abdb6a1-c1a5-47a9-b304-7fb44d248205",
        "colab": {
          "base_uri": "https://localhost:8080/"
        }
      },
      "outputs": [
        {
          "output_type": "stream",
          "name": "stdout",
          "text": [
            "The 101st token: [CLS]\n",
            "The 102nd token: [SEP]\n"
          ]
        }
      ],
      "source": [
        "# Convert input IDs to texts\n",
        "print(f\"The 101st token: {tokenizer.convert_ids_to_tokens(101)}\")\n",
        "print(f\"The 102nd token: {tokenizer.convert_ids_to_tokens(102)}\")"
      ]
    },
    {
      "cell_type": "markdown",
      "id": "b16d4e10-e96c-432a-a6c9-2c992d00fcde",
      "metadata": {
        "id": "b16d4e10-e96c-432a-a6c9-2c992d00fcde"
      },
      "source": [
        "As you can see, our text example is now a list of vocabulary IDs. In addtion to that, BERT adds the sentence terminator `SEP` and the beginning `CLS` token to the original text. BERT's tokenizer encodes tons of texts likewise; and afterwards, they are ready for further processes."
      ]
    },
    {
      "cell_type": "markdown",
      "id": "ac56be32-2a5f-441e-8283-de3e60705c0b",
      "metadata": {
        "id": "ac56be32-2a5f-441e-8283-de3e60705c0b"
      },
      "source": [
        "## 🥊 Challenge 3: Find the Word Boundary\n",
        "\n",
        "Now that we know tokenization in BERT often returns subwords. Let's try a few more examples.\n",
        "\n",
        "- What do you think is the correct boundary for splitting the following words into subwords?\n",
        "- What other examples have you tested?"
      ]
    },
    {
      "cell_type": "markdown",
      "source": [
        "**Si una palabra completa está en el vocabulario, se queda como un solo token, si no, se divide en fragmentos, donde los que empiezan con ## indican que son continuación de otro token**"
      ],
      "metadata": {
        "id": "snSvsP5Hf3MP"
      },
      "id": "snSvsP5Hf3MP"
    },
    {
      "cell_type": "markdown",
      "source": [],
      "metadata": {
        "id": "AtNr4FE_gTxB"
      },
      "id": "AtNr4FE_gTxB"
    },
    {
      "cell_type": "code",
      "execution_count": 56,
      "id": "f1140b19-398c-44dd-829c-c922b0e6f7eb",
      "metadata": {
        "id": "f1140b19-398c-44dd-829c-c922b0e6f7eb"
      },
      "outputs": [],
      "source": [
        "def get_tokens(string):\n",
        "    '''Tokenzie the input string with BERT'''\n",
        "    tokens = tokenizer.tokenize(string)\n",
        "    return print(tokens)"
      ]
    },
    {
      "cell_type": "code",
      "execution_count": 57,
      "id": "0c07c71e-5be2-4d91-9c6f-26de4145307d",
      "metadata": {
        "id": "0c07c71e-5be2-4d91-9c6f-26de4145307d",
        "outputId": "b29551e5-1484-46da-9b1d-ee4d74fc9097",
        "colab": {
          "base_uri": "https://localhost:8080/"
        }
      },
      "outputs": [
        {
          "output_type": "stream",
          "name": "stdout",
          "text": [
            "['dl', '##ab']\n",
            "['co', '##vid']\n",
            "['hug', '##ga', '##ble']\n",
            "['37', '##8']\n",
            "['cyber', '-', 'security']\n",
            "['cyber', '##se', '##cu', '##rity']\n",
            "['secure']\n"
          ]
        }
      ],
      "source": [
        "# Abbreviations\n",
        "get_tokens('dlab')\n",
        "\n",
        "# OOV\n",
        "get_tokens('covid')\n",
        "\n",
        "# Prefix\n",
        "get_tokens('huggable')\n",
        "\n",
        "# Digits\n",
        "get_tokens('378')\n",
        "\n",
        "# YOUR EXAMPLE\n",
        "get_tokens('cyber-security')\n",
        "get_tokens('cybersecurity')\n",
        "get_tokens('secure')"
      ]
    },
    {
      "cell_type": "markdown",
      "id": "4acb7cb9-6e60-4e0a-8cc6-21d57237e835",
      "metadata": {
        "id": "4acb7cb9-6e60-4e0a-8cc6-21d57237e835"
      },
      "source": [
        "We will wrap up Part 1 with this (hopefully) thought-provoking challenge. LLMs often come with a much more sophisticated tokenization scheme, but there is ongoing discussion about their limitations in real-world applications. The reference section includes a few blog posts discussing this problem. Feel free to explore further if this sounds like an interesting question to you!"
      ]
    },
    {
      "cell_type": "markdown",
      "id": "d7943ed9-70de-4f4a-b1bb-b2896d05e618",
      "metadata": {
        "id": "d7943ed9-70de-4f4a-b1bb-b2896d05e618"
      },
      "source": [
        "## References\n",
        "\n",
        "1. A tutorial introducing the tokenization scheme in BERT: [The huggingface NLP course on wordpiece tokenization](https://huggingface.co/learn/nlp-course/chapter6/6?fw=pt)\n",
        "2. A specific example of \"failure\" in tokenization: [Weaknesses of wordpiece tokenization: Findings from the front lines of NLP at VMware.](https://medium.com/@rickbattle/weaknesses-of-wordpiece-tokenization-eb20e37fec99)\n",
        "3. How does BERT decide boundaries between subtokens: [Subword tokenization in BERT](https://tinkerd.net/blog/machine-learning/bert-tokenization/#subword-tokenization)"
      ]
    },
    {
      "cell_type": "markdown",
      "id": "ce0812a7-f033-46ed-bc7b-67109c369e6c",
      "metadata": {
        "id": "ce0812a7-f033-46ed-bc7b-67109c369e6c"
      },
      "source": [
        "<div class=\"alert alert-success\">\n",
        "\n",
        "## ❗ Key Points\n",
        "\n",
        "* Preprocessing includes multiple steps, some of them are more common to text data regardlessly, and some are task-specific.\n",
        "* Both `nltk` and `spaCy` could be used for tokenization and stop word removal. The latter is more powerful in providing various linguistic annotations.\n",
        "* Tokenization works differently in BERT, which often involves breaking down a whole word into subwords.\n",
        "\n",
        "</div>"
      ]
    }
  ],
  "metadata": {
    "kernelspec": {
      "display_name": "Python 3 (ipykernel)",
      "language": "python",
      "name": "python3"
    },
    "language_info": {
      "codemirror_mode": {
        "name": "ipython",
        "version": 3
      },
      "file_extension": ".py",
      "mimetype": "text/x-python",
      "name": "python",
      "nbconvert_exporter": "python",
      "pygments_lexer": "ipython3",
      "version": "3.11.4"
    },
    "colab": {
      "provenance": [],
      "include_colab_link": true
    },
    "widgets": {
      "application/vnd.jupyter.widget-state+json": {
        "36f0978e5a99492487262f7c35bd0711": {
          "model_module": "@jupyter-widgets/controls",
          "model_name": "HBoxModel",
          "model_module_version": "1.5.0",
          "state": {
            "_dom_classes": [],
            "_model_module": "@jupyter-widgets/controls",
            "_model_module_version": "1.5.0",
            "_model_name": "HBoxModel",
            "_view_count": null,
            "_view_module": "@jupyter-widgets/controls",
            "_view_module_version": "1.5.0",
            "_view_name": "HBoxView",
            "box_style": "",
            "children": [
              "IPY_MODEL_ebc6b3d34744460a93473ea21f40b71b",
              "IPY_MODEL_1c30ae733a5e41d2a6a3e85f7f591f87",
              "IPY_MODEL_08c41980279446bdaeaa3769e3b3e835"
            ],
            "layout": "IPY_MODEL_6e5656c122fd4ff6aaf043610e701270"
          }
        },
        "ebc6b3d34744460a93473ea21f40b71b": {
          "model_module": "@jupyter-widgets/controls",
          "model_name": "HTMLModel",
          "model_module_version": "1.5.0",
          "state": {
            "_dom_classes": [],
            "_model_module": "@jupyter-widgets/controls",
            "_model_module_version": "1.5.0",
            "_model_name": "HTMLModel",
            "_view_count": null,
            "_view_module": "@jupyter-widgets/controls",
            "_view_module_version": "1.5.0",
            "_view_name": "HTMLView",
            "description": "",
            "description_tooltip": null,
            "layout": "IPY_MODEL_2905907071a04d2295a555428bc05b10",
            "placeholder": "​",
            "style": "IPY_MODEL_328ffe8f0eaa43d681b15ca97288e080",
            "value": "tokenizer_config.json: 100%"
          }
        },
        "1c30ae733a5e41d2a6a3e85f7f591f87": {
          "model_module": "@jupyter-widgets/controls",
          "model_name": "FloatProgressModel",
          "model_module_version": "1.5.0",
          "state": {
            "_dom_classes": [],
            "_model_module": "@jupyter-widgets/controls",
            "_model_module_version": "1.5.0",
            "_model_name": "FloatProgressModel",
            "_view_count": null,
            "_view_module": "@jupyter-widgets/controls",
            "_view_module_version": "1.5.0",
            "_view_name": "ProgressView",
            "bar_style": "success",
            "description": "",
            "description_tooltip": null,
            "layout": "IPY_MODEL_32715cefde9742cea9f6c5bd58d08db0",
            "max": 48,
            "min": 0,
            "orientation": "horizontal",
            "style": "IPY_MODEL_6f81cf67ca1b4f0eb1f0760f9614060b",
            "value": 48
          }
        },
        "08c41980279446bdaeaa3769e3b3e835": {
          "model_module": "@jupyter-widgets/controls",
          "model_name": "HTMLModel",
          "model_module_version": "1.5.0",
          "state": {
            "_dom_classes": [],
            "_model_module": "@jupyter-widgets/controls",
            "_model_module_version": "1.5.0",
            "_model_name": "HTMLModel",
            "_view_count": null,
            "_view_module": "@jupyter-widgets/controls",
            "_view_module_version": "1.5.0",
            "_view_name": "HTMLView",
            "description": "",
            "description_tooltip": null,
            "layout": "IPY_MODEL_0ac40bb7850b4333ad87cc44b320a543",
            "placeholder": "​",
            "style": "IPY_MODEL_91df4d2fc6b246519b8cde482855e428",
            "value": " 48.0/48.0 [00:00&lt;00:00, 1.60kB/s]"
          }
        },
        "6e5656c122fd4ff6aaf043610e701270": {
          "model_module": "@jupyter-widgets/base",
          "model_name": "LayoutModel",
          "model_module_version": "1.2.0",
          "state": {
            "_model_module": "@jupyter-widgets/base",
            "_model_module_version": "1.2.0",
            "_model_name": "LayoutModel",
            "_view_count": null,
            "_view_module": "@jupyter-widgets/base",
            "_view_module_version": "1.2.0",
            "_view_name": "LayoutView",
            "align_content": null,
            "align_items": null,
            "align_self": null,
            "border": null,
            "bottom": null,
            "display": null,
            "flex": null,
            "flex_flow": null,
            "grid_area": null,
            "grid_auto_columns": null,
            "grid_auto_flow": null,
            "grid_auto_rows": null,
            "grid_column": null,
            "grid_gap": null,
            "grid_row": null,
            "grid_template_areas": null,
            "grid_template_columns": null,
            "grid_template_rows": null,
            "height": null,
            "justify_content": null,
            "justify_items": null,
            "left": null,
            "margin": null,
            "max_height": null,
            "max_width": null,
            "min_height": null,
            "min_width": null,
            "object_fit": null,
            "object_position": null,
            "order": null,
            "overflow": null,
            "overflow_x": null,
            "overflow_y": null,
            "padding": null,
            "right": null,
            "top": null,
            "visibility": null,
            "width": null
          }
        },
        "2905907071a04d2295a555428bc05b10": {
          "model_module": "@jupyter-widgets/base",
          "model_name": "LayoutModel",
          "model_module_version": "1.2.0",
          "state": {
            "_model_module": "@jupyter-widgets/base",
            "_model_module_version": "1.2.0",
            "_model_name": "LayoutModel",
            "_view_count": null,
            "_view_module": "@jupyter-widgets/base",
            "_view_module_version": "1.2.0",
            "_view_name": "LayoutView",
            "align_content": null,
            "align_items": null,
            "align_self": null,
            "border": null,
            "bottom": null,
            "display": null,
            "flex": null,
            "flex_flow": null,
            "grid_area": null,
            "grid_auto_columns": null,
            "grid_auto_flow": null,
            "grid_auto_rows": null,
            "grid_column": null,
            "grid_gap": null,
            "grid_row": null,
            "grid_template_areas": null,
            "grid_template_columns": null,
            "grid_template_rows": null,
            "height": null,
            "justify_content": null,
            "justify_items": null,
            "left": null,
            "margin": null,
            "max_height": null,
            "max_width": null,
            "min_height": null,
            "min_width": null,
            "object_fit": null,
            "object_position": null,
            "order": null,
            "overflow": null,
            "overflow_x": null,
            "overflow_y": null,
            "padding": null,
            "right": null,
            "top": null,
            "visibility": null,
            "width": null
          }
        },
        "328ffe8f0eaa43d681b15ca97288e080": {
          "model_module": "@jupyter-widgets/controls",
          "model_name": "DescriptionStyleModel",
          "model_module_version": "1.5.0",
          "state": {
            "_model_module": "@jupyter-widgets/controls",
            "_model_module_version": "1.5.0",
            "_model_name": "DescriptionStyleModel",
            "_view_count": null,
            "_view_module": "@jupyter-widgets/base",
            "_view_module_version": "1.2.0",
            "_view_name": "StyleView",
            "description_width": ""
          }
        },
        "32715cefde9742cea9f6c5bd58d08db0": {
          "model_module": "@jupyter-widgets/base",
          "model_name": "LayoutModel",
          "model_module_version": "1.2.0",
          "state": {
            "_model_module": "@jupyter-widgets/base",
            "_model_module_version": "1.2.0",
            "_model_name": "LayoutModel",
            "_view_count": null,
            "_view_module": "@jupyter-widgets/base",
            "_view_module_version": "1.2.0",
            "_view_name": "LayoutView",
            "align_content": null,
            "align_items": null,
            "align_self": null,
            "border": null,
            "bottom": null,
            "display": null,
            "flex": null,
            "flex_flow": null,
            "grid_area": null,
            "grid_auto_columns": null,
            "grid_auto_flow": null,
            "grid_auto_rows": null,
            "grid_column": null,
            "grid_gap": null,
            "grid_row": null,
            "grid_template_areas": null,
            "grid_template_columns": null,
            "grid_template_rows": null,
            "height": null,
            "justify_content": null,
            "justify_items": null,
            "left": null,
            "margin": null,
            "max_height": null,
            "max_width": null,
            "min_height": null,
            "min_width": null,
            "object_fit": null,
            "object_position": null,
            "order": null,
            "overflow": null,
            "overflow_x": null,
            "overflow_y": null,
            "padding": null,
            "right": null,
            "top": null,
            "visibility": null,
            "width": null
          }
        },
        "6f81cf67ca1b4f0eb1f0760f9614060b": {
          "model_module": "@jupyter-widgets/controls",
          "model_name": "ProgressStyleModel",
          "model_module_version": "1.5.0",
          "state": {
            "_model_module": "@jupyter-widgets/controls",
            "_model_module_version": "1.5.0",
            "_model_name": "ProgressStyleModel",
            "_view_count": null,
            "_view_module": "@jupyter-widgets/base",
            "_view_module_version": "1.2.0",
            "_view_name": "StyleView",
            "bar_color": null,
            "description_width": ""
          }
        },
        "0ac40bb7850b4333ad87cc44b320a543": {
          "model_module": "@jupyter-widgets/base",
          "model_name": "LayoutModel",
          "model_module_version": "1.2.0",
          "state": {
            "_model_module": "@jupyter-widgets/base",
            "_model_module_version": "1.2.0",
            "_model_name": "LayoutModel",
            "_view_count": null,
            "_view_module": "@jupyter-widgets/base",
            "_view_module_version": "1.2.0",
            "_view_name": "LayoutView",
            "align_content": null,
            "align_items": null,
            "align_self": null,
            "border": null,
            "bottom": null,
            "display": null,
            "flex": null,
            "flex_flow": null,
            "grid_area": null,
            "grid_auto_columns": null,
            "grid_auto_flow": null,
            "grid_auto_rows": null,
            "grid_column": null,
            "grid_gap": null,
            "grid_row": null,
            "grid_template_areas": null,
            "grid_template_columns": null,
            "grid_template_rows": null,
            "height": null,
            "justify_content": null,
            "justify_items": null,
            "left": null,
            "margin": null,
            "max_height": null,
            "max_width": null,
            "min_height": null,
            "min_width": null,
            "object_fit": null,
            "object_position": null,
            "order": null,
            "overflow": null,
            "overflow_x": null,
            "overflow_y": null,
            "padding": null,
            "right": null,
            "top": null,
            "visibility": null,
            "width": null
          }
        },
        "91df4d2fc6b246519b8cde482855e428": {
          "model_module": "@jupyter-widgets/controls",
          "model_name": "DescriptionStyleModel",
          "model_module_version": "1.5.0",
          "state": {
            "_model_module": "@jupyter-widgets/controls",
            "_model_module_version": "1.5.0",
            "_model_name": "DescriptionStyleModel",
            "_view_count": null,
            "_view_module": "@jupyter-widgets/base",
            "_view_module_version": "1.2.0",
            "_view_name": "StyleView",
            "description_width": ""
          }
        },
        "44475c49c4e240049e54cea823f71e69": {
          "model_module": "@jupyter-widgets/controls",
          "model_name": "HBoxModel",
          "model_module_version": "1.5.0",
          "state": {
            "_dom_classes": [],
            "_model_module": "@jupyter-widgets/controls",
            "_model_module_version": "1.5.0",
            "_model_name": "HBoxModel",
            "_view_count": null,
            "_view_module": "@jupyter-widgets/controls",
            "_view_module_version": "1.5.0",
            "_view_name": "HBoxView",
            "box_style": "",
            "children": [
              "IPY_MODEL_787c8b547dee4571bf3fa6e8ca0c7945",
              "IPY_MODEL_ec4ede21d1204666b32b999336c95f9c",
              "IPY_MODEL_8cc76bd45ed24a76a17942a01cfcd395"
            ],
            "layout": "IPY_MODEL_b72eed6d44df44b7967d66ec04b8c73e"
          }
        },
        "787c8b547dee4571bf3fa6e8ca0c7945": {
          "model_module": "@jupyter-widgets/controls",
          "model_name": "HTMLModel",
          "model_module_version": "1.5.0",
          "state": {
            "_dom_classes": [],
            "_model_module": "@jupyter-widgets/controls",
            "_model_module_version": "1.5.0",
            "_model_name": "HTMLModel",
            "_view_count": null,
            "_view_module": "@jupyter-widgets/controls",
            "_view_module_version": "1.5.0",
            "_view_name": "HTMLView",
            "description": "",
            "description_tooltip": null,
            "layout": "IPY_MODEL_af800ce5eb68403abbcd356ba212303b",
            "placeholder": "​",
            "style": "IPY_MODEL_c2aebfa95be449b684e024bba9701c1a",
            "value": "vocab.txt: 100%"
          }
        },
        "ec4ede21d1204666b32b999336c95f9c": {
          "model_module": "@jupyter-widgets/controls",
          "model_name": "FloatProgressModel",
          "model_module_version": "1.5.0",
          "state": {
            "_dom_classes": [],
            "_model_module": "@jupyter-widgets/controls",
            "_model_module_version": "1.5.0",
            "_model_name": "FloatProgressModel",
            "_view_count": null,
            "_view_module": "@jupyter-widgets/controls",
            "_view_module_version": "1.5.0",
            "_view_name": "ProgressView",
            "bar_style": "success",
            "description": "",
            "description_tooltip": null,
            "layout": "IPY_MODEL_7287cb8ea28948acbb50f8eb0f18ad08",
            "max": 231508,
            "min": 0,
            "orientation": "horizontal",
            "style": "IPY_MODEL_e12d3d97d2d84859ba03f9114c2057d7",
            "value": 231508
          }
        },
        "8cc76bd45ed24a76a17942a01cfcd395": {
          "model_module": "@jupyter-widgets/controls",
          "model_name": "HTMLModel",
          "model_module_version": "1.5.0",
          "state": {
            "_dom_classes": [],
            "_model_module": "@jupyter-widgets/controls",
            "_model_module_version": "1.5.0",
            "_model_name": "HTMLModel",
            "_view_count": null,
            "_view_module": "@jupyter-widgets/controls",
            "_view_module_version": "1.5.0",
            "_view_name": "HTMLView",
            "description": "",
            "description_tooltip": null,
            "layout": "IPY_MODEL_8a7e5a66cfdd4286a1337b591aa6f0ba",
            "placeholder": "​",
            "style": "IPY_MODEL_93d6d597863a44d1b50feed4ad28c786",
            "value": " 232k/232k [00:00&lt;00:00, 2.49MB/s]"
          }
        },
        "b72eed6d44df44b7967d66ec04b8c73e": {
          "model_module": "@jupyter-widgets/base",
          "model_name": "LayoutModel",
          "model_module_version": "1.2.0",
          "state": {
            "_model_module": "@jupyter-widgets/base",
            "_model_module_version": "1.2.0",
            "_model_name": "LayoutModel",
            "_view_count": null,
            "_view_module": "@jupyter-widgets/base",
            "_view_module_version": "1.2.0",
            "_view_name": "LayoutView",
            "align_content": null,
            "align_items": null,
            "align_self": null,
            "border": null,
            "bottom": null,
            "display": null,
            "flex": null,
            "flex_flow": null,
            "grid_area": null,
            "grid_auto_columns": null,
            "grid_auto_flow": null,
            "grid_auto_rows": null,
            "grid_column": null,
            "grid_gap": null,
            "grid_row": null,
            "grid_template_areas": null,
            "grid_template_columns": null,
            "grid_template_rows": null,
            "height": null,
            "justify_content": null,
            "justify_items": null,
            "left": null,
            "margin": null,
            "max_height": null,
            "max_width": null,
            "min_height": null,
            "min_width": null,
            "object_fit": null,
            "object_position": null,
            "order": null,
            "overflow": null,
            "overflow_x": null,
            "overflow_y": null,
            "padding": null,
            "right": null,
            "top": null,
            "visibility": null,
            "width": null
          }
        },
        "af800ce5eb68403abbcd356ba212303b": {
          "model_module": "@jupyter-widgets/base",
          "model_name": "LayoutModel",
          "model_module_version": "1.2.0",
          "state": {
            "_model_module": "@jupyter-widgets/base",
            "_model_module_version": "1.2.0",
            "_model_name": "LayoutModel",
            "_view_count": null,
            "_view_module": "@jupyter-widgets/base",
            "_view_module_version": "1.2.0",
            "_view_name": "LayoutView",
            "align_content": null,
            "align_items": null,
            "align_self": null,
            "border": null,
            "bottom": null,
            "display": null,
            "flex": null,
            "flex_flow": null,
            "grid_area": null,
            "grid_auto_columns": null,
            "grid_auto_flow": null,
            "grid_auto_rows": null,
            "grid_column": null,
            "grid_gap": null,
            "grid_row": null,
            "grid_template_areas": null,
            "grid_template_columns": null,
            "grid_template_rows": null,
            "height": null,
            "justify_content": null,
            "justify_items": null,
            "left": null,
            "margin": null,
            "max_height": null,
            "max_width": null,
            "min_height": null,
            "min_width": null,
            "object_fit": null,
            "object_position": null,
            "order": null,
            "overflow": null,
            "overflow_x": null,
            "overflow_y": null,
            "padding": null,
            "right": null,
            "top": null,
            "visibility": null,
            "width": null
          }
        },
        "c2aebfa95be449b684e024bba9701c1a": {
          "model_module": "@jupyter-widgets/controls",
          "model_name": "DescriptionStyleModel",
          "model_module_version": "1.5.0",
          "state": {
            "_model_module": "@jupyter-widgets/controls",
            "_model_module_version": "1.5.0",
            "_model_name": "DescriptionStyleModel",
            "_view_count": null,
            "_view_module": "@jupyter-widgets/base",
            "_view_module_version": "1.2.0",
            "_view_name": "StyleView",
            "description_width": ""
          }
        },
        "7287cb8ea28948acbb50f8eb0f18ad08": {
          "model_module": "@jupyter-widgets/base",
          "model_name": "LayoutModel",
          "model_module_version": "1.2.0",
          "state": {
            "_model_module": "@jupyter-widgets/base",
            "_model_module_version": "1.2.0",
            "_model_name": "LayoutModel",
            "_view_count": null,
            "_view_module": "@jupyter-widgets/base",
            "_view_module_version": "1.2.0",
            "_view_name": "LayoutView",
            "align_content": null,
            "align_items": null,
            "align_self": null,
            "border": null,
            "bottom": null,
            "display": null,
            "flex": null,
            "flex_flow": null,
            "grid_area": null,
            "grid_auto_columns": null,
            "grid_auto_flow": null,
            "grid_auto_rows": null,
            "grid_column": null,
            "grid_gap": null,
            "grid_row": null,
            "grid_template_areas": null,
            "grid_template_columns": null,
            "grid_template_rows": null,
            "height": null,
            "justify_content": null,
            "justify_items": null,
            "left": null,
            "margin": null,
            "max_height": null,
            "max_width": null,
            "min_height": null,
            "min_width": null,
            "object_fit": null,
            "object_position": null,
            "order": null,
            "overflow": null,
            "overflow_x": null,
            "overflow_y": null,
            "padding": null,
            "right": null,
            "top": null,
            "visibility": null,
            "width": null
          }
        },
        "e12d3d97d2d84859ba03f9114c2057d7": {
          "model_module": "@jupyter-widgets/controls",
          "model_name": "ProgressStyleModel",
          "model_module_version": "1.5.0",
          "state": {
            "_model_module": "@jupyter-widgets/controls",
            "_model_module_version": "1.5.0",
            "_model_name": "ProgressStyleModel",
            "_view_count": null,
            "_view_module": "@jupyter-widgets/base",
            "_view_module_version": "1.2.0",
            "_view_name": "StyleView",
            "bar_color": null,
            "description_width": ""
          }
        },
        "8a7e5a66cfdd4286a1337b591aa6f0ba": {
          "model_module": "@jupyter-widgets/base",
          "model_name": "LayoutModel",
          "model_module_version": "1.2.0",
          "state": {
            "_model_module": "@jupyter-widgets/base",
            "_model_module_version": "1.2.0",
            "_model_name": "LayoutModel",
            "_view_count": null,
            "_view_module": "@jupyter-widgets/base",
            "_view_module_version": "1.2.0",
            "_view_name": "LayoutView",
            "align_content": null,
            "align_items": null,
            "align_self": null,
            "border": null,
            "bottom": null,
            "display": null,
            "flex": null,
            "flex_flow": null,
            "grid_area": null,
            "grid_auto_columns": null,
            "grid_auto_flow": null,
            "grid_auto_rows": null,
            "grid_column": null,
            "grid_gap": null,
            "grid_row": null,
            "grid_template_areas": null,
            "grid_template_columns": null,
            "grid_template_rows": null,
            "height": null,
            "justify_content": null,
            "justify_items": null,
            "left": null,
            "margin": null,
            "max_height": null,
            "max_width": null,
            "min_height": null,
            "min_width": null,
            "object_fit": null,
            "object_position": null,
            "order": null,
            "overflow": null,
            "overflow_x": null,
            "overflow_y": null,
            "padding": null,
            "right": null,
            "top": null,
            "visibility": null,
            "width": null
          }
        },
        "93d6d597863a44d1b50feed4ad28c786": {
          "model_module": "@jupyter-widgets/controls",
          "model_name": "DescriptionStyleModel",
          "model_module_version": "1.5.0",
          "state": {
            "_model_module": "@jupyter-widgets/controls",
            "_model_module_version": "1.5.0",
            "_model_name": "DescriptionStyleModel",
            "_view_count": null,
            "_view_module": "@jupyter-widgets/base",
            "_view_module_version": "1.2.0",
            "_view_name": "StyleView",
            "description_width": ""
          }
        },
        "7a23a46fee074123a6fc0868e5417d9f": {
          "model_module": "@jupyter-widgets/controls",
          "model_name": "HBoxModel",
          "model_module_version": "1.5.0",
          "state": {
            "_dom_classes": [],
            "_model_module": "@jupyter-widgets/controls",
            "_model_module_version": "1.5.0",
            "_model_name": "HBoxModel",
            "_view_count": null,
            "_view_module": "@jupyter-widgets/controls",
            "_view_module_version": "1.5.0",
            "_view_name": "HBoxView",
            "box_style": "",
            "children": [
              "IPY_MODEL_befdc4f951fa4a669dec29b1f2563727",
              "IPY_MODEL_187d0b8c1b464d338e2188647de259fa",
              "IPY_MODEL_62a03a1465b3458ea7b2c8153b07d3a8"
            ],
            "layout": "IPY_MODEL_55a8db9ffe7b4ffbab27f756cbe7a823"
          }
        },
        "befdc4f951fa4a669dec29b1f2563727": {
          "model_module": "@jupyter-widgets/controls",
          "model_name": "HTMLModel",
          "model_module_version": "1.5.0",
          "state": {
            "_dom_classes": [],
            "_model_module": "@jupyter-widgets/controls",
            "_model_module_version": "1.5.0",
            "_model_name": "HTMLModel",
            "_view_count": null,
            "_view_module": "@jupyter-widgets/controls",
            "_view_module_version": "1.5.0",
            "_view_name": "HTMLView",
            "description": "",
            "description_tooltip": null,
            "layout": "IPY_MODEL_11890c0bf9144892ad2f29e5f8ae1845",
            "placeholder": "​",
            "style": "IPY_MODEL_decb9be11eb74c49a9727aa499f102ad",
            "value": "tokenizer.json: 100%"
          }
        },
        "187d0b8c1b464d338e2188647de259fa": {
          "model_module": "@jupyter-widgets/controls",
          "model_name": "FloatProgressModel",
          "model_module_version": "1.5.0",
          "state": {
            "_dom_classes": [],
            "_model_module": "@jupyter-widgets/controls",
            "_model_module_version": "1.5.0",
            "_model_name": "FloatProgressModel",
            "_view_count": null,
            "_view_module": "@jupyter-widgets/controls",
            "_view_module_version": "1.5.0",
            "_view_name": "ProgressView",
            "bar_style": "success",
            "description": "",
            "description_tooltip": null,
            "layout": "IPY_MODEL_071e5d0e06a9494ab6651cf8ebd6494a",
            "max": 466062,
            "min": 0,
            "orientation": "horizontal",
            "style": "IPY_MODEL_e14191cbd29e495985a8fe214143f531",
            "value": 466062
          }
        },
        "62a03a1465b3458ea7b2c8153b07d3a8": {
          "model_module": "@jupyter-widgets/controls",
          "model_name": "HTMLModel",
          "model_module_version": "1.5.0",
          "state": {
            "_dom_classes": [],
            "_model_module": "@jupyter-widgets/controls",
            "_model_module_version": "1.5.0",
            "_model_name": "HTMLModel",
            "_view_count": null,
            "_view_module": "@jupyter-widgets/controls",
            "_view_module_version": "1.5.0",
            "_view_name": "HTMLView",
            "description": "",
            "description_tooltip": null,
            "layout": "IPY_MODEL_0ee828f1bb87434b8c9ab466c796c0c6",
            "placeholder": "​",
            "style": "IPY_MODEL_f4c31035acde4ffb97f907fb12d20ab7",
            "value": " 466k/466k [00:00&lt;00:00, 5.98MB/s]"
          }
        },
        "55a8db9ffe7b4ffbab27f756cbe7a823": {
          "model_module": "@jupyter-widgets/base",
          "model_name": "LayoutModel",
          "model_module_version": "1.2.0",
          "state": {
            "_model_module": "@jupyter-widgets/base",
            "_model_module_version": "1.2.0",
            "_model_name": "LayoutModel",
            "_view_count": null,
            "_view_module": "@jupyter-widgets/base",
            "_view_module_version": "1.2.0",
            "_view_name": "LayoutView",
            "align_content": null,
            "align_items": null,
            "align_self": null,
            "border": null,
            "bottom": null,
            "display": null,
            "flex": null,
            "flex_flow": null,
            "grid_area": null,
            "grid_auto_columns": null,
            "grid_auto_flow": null,
            "grid_auto_rows": null,
            "grid_column": null,
            "grid_gap": null,
            "grid_row": null,
            "grid_template_areas": null,
            "grid_template_columns": null,
            "grid_template_rows": null,
            "height": null,
            "justify_content": null,
            "justify_items": null,
            "left": null,
            "margin": null,
            "max_height": null,
            "max_width": null,
            "min_height": null,
            "min_width": null,
            "object_fit": null,
            "object_position": null,
            "order": null,
            "overflow": null,
            "overflow_x": null,
            "overflow_y": null,
            "padding": null,
            "right": null,
            "top": null,
            "visibility": null,
            "width": null
          }
        },
        "11890c0bf9144892ad2f29e5f8ae1845": {
          "model_module": "@jupyter-widgets/base",
          "model_name": "LayoutModel",
          "model_module_version": "1.2.0",
          "state": {
            "_model_module": "@jupyter-widgets/base",
            "_model_module_version": "1.2.0",
            "_model_name": "LayoutModel",
            "_view_count": null,
            "_view_module": "@jupyter-widgets/base",
            "_view_module_version": "1.2.0",
            "_view_name": "LayoutView",
            "align_content": null,
            "align_items": null,
            "align_self": null,
            "border": null,
            "bottom": null,
            "display": null,
            "flex": null,
            "flex_flow": null,
            "grid_area": null,
            "grid_auto_columns": null,
            "grid_auto_flow": null,
            "grid_auto_rows": null,
            "grid_column": null,
            "grid_gap": null,
            "grid_row": null,
            "grid_template_areas": null,
            "grid_template_columns": null,
            "grid_template_rows": null,
            "height": null,
            "justify_content": null,
            "justify_items": null,
            "left": null,
            "margin": null,
            "max_height": null,
            "max_width": null,
            "min_height": null,
            "min_width": null,
            "object_fit": null,
            "object_position": null,
            "order": null,
            "overflow": null,
            "overflow_x": null,
            "overflow_y": null,
            "padding": null,
            "right": null,
            "top": null,
            "visibility": null,
            "width": null
          }
        },
        "decb9be11eb74c49a9727aa499f102ad": {
          "model_module": "@jupyter-widgets/controls",
          "model_name": "DescriptionStyleModel",
          "model_module_version": "1.5.0",
          "state": {
            "_model_module": "@jupyter-widgets/controls",
            "_model_module_version": "1.5.0",
            "_model_name": "DescriptionStyleModel",
            "_view_count": null,
            "_view_module": "@jupyter-widgets/base",
            "_view_module_version": "1.2.0",
            "_view_name": "StyleView",
            "description_width": ""
          }
        },
        "071e5d0e06a9494ab6651cf8ebd6494a": {
          "model_module": "@jupyter-widgets/base",
          "model_name": "LayoutModel",
          "model_module_version": "1.2.0",
          "state": {
            "_model_module": "@jupyter-widgets/base",
            "_model_module_version": "1.2.0",
            "_model_name": "LayoutModel",
            "_view_count": null,
            "_view_module": "@jupyter-widgets/base",
            "_view_module_version": "1.2.0",
            "_view_name": "LayoutView",
            "align_content": null,
            "align_items": null,
            "align_self": null,
            "border": null,
            "bottom": null,
            "display": null,
            "flex": null,
            "flex_flow": null,
            "grid_area": null,
            "grid_auto_columns": null,
            "grid_auto_flow": null,
            "grid_auto_rows": null,
            "grid_column": null,
            "grid_gap": null,
            "grid_row": null,
            "grid_template_areas": null,
            "grid_template_columns": null,
            "grid_template_rows": null,
            "height": null,
            "justify_content": null,
            "justify_items": null,
            "left": null,
            "margin": null,
            "max_height": null,
            "max_width": null,
            "min_height": null,
            "min_width": null,
            "object_fit": null,
            "object_position": null,
            "order": null,
            "overflow": null,
            "overflow_x": null,
            "overflow_y": null,
            "padding": null,
            "right": null,
            "top": null,
            "visibility": null,
            "width": null
          }
        },
        "e14191cbd29e495985a8fe214143f531": {
          "model_module": "@jupyter-widgets/controls",
          "model_name": "ProgressStyleModel",
          "model_module_version": "1.5.0",
          "state": {
            "_model_module": "@jupyter-widgets/controls",
            "_model_module_version": "1.5.0",
            "_model_name": "ProgressStyleModel",
            "_view_count": null,
            "_view_module": "@jupyter-widgets/base",
            "_view_module_version": "1.2.0",
            "_view_name": "StyleView",
            "bar_color": null,
            "description_width": ""
          }
        },
        "0ee828f1bb87434b8c9ab466c796c0c6": {
          "model_module": "@jupyter-widgets/base",
          "model_name": "LayoutModel",
          "model_module_version": "1.2.0",
          "state": {
            "_model_module": "@jupyter-widgets/base",
            "_model_module_version": "1.2.0",
            "_model_name": "LayoutModel",
            "_view_count": null,
            "_view_module": "@jupyter-widgets/base",
            "_view_module_version": "1.2.0",
            "_view_name": "LayoutView",
            "align_content": null,
            "align_items": null,
            "align_self": null,
            "border": null,
            "bottom": null,
            "display": null,
            "flex": null,
            "flex_flow": null,
            "grid_area": null,
            "grid_auto_columns": null,
            "grid_auto_flow": null,
            "grid_auto_rows": null,
            "grid_column": null,
            "grid_gap": null,
            "grid_row": null,
            "grid_template_areas": null,
            "grid_template_columns": null,
            "grid_template_rows": null,
            "height": null,
            "justify_content": null,
            "justify_items": null,
            "left": null,
            "margin": null,
            "max_height": null,
            "max_width": null,
            "min_height": null,
            "min_width": null,
            "object_fit": null,
            "object_position": null,
            "order": null,
            "overflow": null,
            "overflow_x": null,
            "overflow_y": null,
            "padding": null,
            "right": null,
            "top": null,
            "visibility": null,
            "width": null
          }
        },
        "f4c31035acde4ffb97f907fb12d20ab7": {
          "model_module": "@jupyter-widgets/controls",
          "model_name": "DescriptionStyleModel",
          "model_module_version": "1.5.0",
          "state": {
            "_model_module": "@jupyter-widgets/controls",
            "_model_module_version": "1.5.0",
            "_model_name": "DescriptionStyleModel",
            "_view_count": null,
            "_view_module": "@jupyter-widgets/base",
            "_view_module_version": "1.2.0",
            "_view_name": "StyleView",
            "description_width": ""
          }
        },
        "7754bf6661764b6d8d5e7f3150d44ee3": {
          "model_module": "@jupyter-widgets/controls",
          "model_name": "HBoxModel",
          "model_module_version": "1.5.0",
          "state": {
            "_dom_classes": [],
            "_model_module": "@jupyter-widgets/controls",
            "_model_module_version": "1.5.0",
            "_model_name": "HBoxModel",
            "_view_count": null,
            "_view_module": "@jupyter-widgets/controls",
            "_view_module_version": "1.5.0",
            "_view_name": "HBoxView",
            "box_style": "",
            "children": [
              "IPY_MODEL_129f45a43e2247b29459d8bf8066ead8",
              "IPY_MODEL_b64d94474fb047518f2c358110485af2",
              "IPY_MODEL_ce75689758364c5cb67cbe2d90876f74"
            ],
            "layout": "IPY_MODEL_09d4c3ef27594dc99593cb1d28faff67"
          }
        },
        "129f45a43e2247b29459d8bf8066ead8": {
          "model_module": "@jupyter-widgets/controls",
          "model_name": "HTMLModel",
          "model_module_version": "1.5.0",
          "state": {
            "_dom_classes": [],
            "_model_module": "@jupyter-widgets/controls",
            "_model_module_version": "1.5.0",
            "_model_name": "HTMLModel",
            "_view_count": null,
            "_view_module": "@jupyter-widgets/controls",
            "_view_module_version": "1.5.0",
            "_view_name": "HTMLView",
            "description": "",
            "description_tooltip": null,
            "layout": "IPY_MODEL_8ec4c5bdbaf14bcb9572dce6d3c0550d",
            "placeholder": "​",
            "style": "IPY_MODEL_9cddf764cdfb43c2a2c94f4a4b80a9bb",
            "value": "config.json: 100%"
          }
        },
        "b64d94474fb047518f2c358110485af2": {
          "model_module": "@jupyter-widgets/controls",
          "model_name": "FloatProgressModel",
          "model_module_version": "1.5.0",
          "state": {
            "_dom_classes": [],
            "_model_module": "@jupyter-widgets/controls",
            "_model_module_version": "1.5.0",
            "_model_name": "FloatProgressModel",
            "_view_count": null,
            "_view_module": "@jupyter-widgets/controls",
            "_view_module_version": "1.5.0",
            "_view_name": "ProgressView",
            "bar_style": "success",
            "description": "",
            "description_tooltip": null,
            "layout": "IPY_MODEL_12814f4deaad43d6ac4f04da4dbd12a9",
            "max": 570,
            "min": 0,
            "orientation": "horizontal",
            "style": "IPY_MODEL_8ebe6623de4e46ab9dd8b7d5caf3b6cb",
            "value": 570
          }
        },
        "ce75689758364c5cb67cbe2d90876f74": {
          "model_module": "@jupyter-widgets/controls",
          "model_name": "HTMLModel",
          "model_module_version": "1.5.0",
          "state": {
            "_dom_classes": [],
            "_model_module": "@jupyter-widgets/controls",
            "_model_module_version": "1.5.0",
            "_model_name": "HTMLModel",
            "_view_count": null,
            "_view_module": "@jupyter-widgets/controls",
            "_view_module_version": "1.5.0",
            "_view_name": "HTMLView",
            "description": "",
            "description_tooltip": null,
            "layout": "IPY_MODEL_bc776784d59541f2be1ebc57ddf061fe",
            "placeholder": "​",
            "style": "IPY_MODEL_40cec7d465ae402ca2a6441119631102",
            "value": " 570/570 [00:00&lt;00:00, 12.3kB/s]"
          }
        },
        "09d4c3ef27594dc99593cb1d28faff67": {
          "model_module": "@jupyter-widgets/base",
          "model_name": "LayoutModel",
          "model_module_version": "1.2.0",
          "state": {
            "_model_module": "@jupyter-widgets/base",
            "_model_module_version": "1.2.0",
            "_model_name": "LayoutModel",
            "_view_count": null,
            "_view_module": "@jupyter-widgets/base",
            "_view_module_version": "1.2.0",
            "_view_name": "LayoutView",
            "align_content": null,
            "align_items": null,
            "align_self": null,
            "border": null,
            "bottom": null,
            "display": null,
            "flex": null,
            "flex_flow": null,
            "grid_area": null,
            "grid_auto_columns": null,
            "grid_auto_flow": null,
            "grid_auto_rows": null,
            "grid_column": null,
            "grid_gap": null,
            "grid_row": null,
            "grid_template_areas": null,
            "grid_template_columns": null,
            "grid_template_rows": null,
            "height": null,
            "justify_content": null,
            "justify_items": null,
            "left": null,
            "margin": null,
            "max_height": null,
            "max_width": null,
            "min_height": null,
            "min_width": null,
            "object_fit": null,
            "object_position": null,
            "order": null,
            "overflow": null,
            "overflow_x": null,
            "overflow_y": null,
            "padding": null,
            "right": null,
            "top": null,
            "visibility": null,
            "width": null
          }
        },
        "8ec4c5bdbaf14bcb9572dce6d3c0550d": {
          "model_module": "@jupyter-widgets/base",
          "model_name": "LayoutModel",
          "model_module_version": "1.2.0",
          "state": {
            "_model_module": "@jupyter-widgets/base",
            "_model_module_version": "1.2.0",
            "_model_name": "LayoutModel",
            "_view_count": null,
            "_view_module": "@jupyter-widgets/base",
            "_view_module_version": "1.2.0",
            "_view_name": "LayoutView",
            "align_content": null,
            "align_items": null,
            "align_self": null,
            "border": null,
            "bottom": null,
            "display": null,
            "flex": null,
            "flex_flow": null,
            "grid_area": null,
            "grid_auto_columns": null,
            "grid_auto_flow": null,
            "grid_auto_rows": null,
            "grid_column": null,
            "grid_gap": null,
            "grid_row": null,
            "grid_template_areas": null,
            "grid_template_columns": null,
            "grid_template_rows": null,
            "height": null,
            "justify_content": null,
            "justify_items": null,
            "left": null,
            "margin": null,
            "max_height": null,
            "max_width": null,
            "min_height": null,
            "min_width": null,
            "object_fit": null,
            "object_position": null,
            "order": null,
            "overflow": null,
            "overflow_x": null,
            "overflow_y": null,
            "padding": null,
            "right": null,
            "top": null,
            "visibility": null,
            "width": null
          }
        },
        "9cddf764cdfb43c2a2c94f4a4b80a9bb": {
          "model_module": "@jupyter-widgets/controls",
          "model_name": "DescriptionStyleModel",
          "model_module_version": "1.5.0",
          "state": {
            "_model_module": "@jupyter-widgets/controls",
            "_model_module_version": "1.5.0",
            "_model_name": "DescriptionStyleModel",
            "_view_count": null,
            "_view_module": "@jupyter-widgets/base",
            "_view_module_version": "1.2.0",
            "_view_name": "StyleView",
            "description_width": ""
          }
        },
        "12814f4deaad43d6ac4f04da4dbd12a9": {
          "model_module": "@jupyter-widgets/base",
          "model_name": "LayoutModel",
          "model_module_version": "1.2.0",
          "state": {
            "_model_module": "@jupyter-widgets/base",
            "_model_module_version": "1.2.0",
            "_model_name": "LayoutModel",
            "_view_count": null,
            "_view_module": "@jupyter-widgets/base",
            "_view_module_version": "1.2.0",
            "_view_name": "LayoutView",
            "align_content": null,
            "align_items": null,
            "align_self": null,
            "border": null,
            "bottom": null,
            "display": null,
            "flex": null,
            "flex_flow": null,
            "grid_area": null,
            "grid_auto_columns": null,
            "grid_auto_flow": null,
            "grid_auto_rows": null,
            "grid_column": null,
            "grid_gap": null,
            "grid_row": null,
            "grid_template_areas": null,
            "grid_template_columns": null,
            "grid_template_rows": null,
            "height": null,
            "justify_content": null,
            "justify_items": null,
            "left": null,
            "margin": null,
            "max_height": null,
            "max_width": null,
            "min_height": null,
            "min_width": null,
            "object_fit": null,
            "object_position": null,
            "order": null,
            "overflow": null,
            "overflow_x": null,
            "overflow_y": null,
            "padding": null,
            "right": null,
            "top": null,
            "visibility": null,
            "width": null
          }
        },
        "8ebe6623de4e46ab9dd8b7d5caf3b6cb": {
          "model_module": "@jupyter-widgets/controls",
          "model_name": "ProgressStyleModel",
          "model_module_version": "1.5.0",
          "state": {
            "_model_module": "@jupyter-widgets/controls",
            "_model_module_version": "1.5.0",
            "_model_name": "ProgressStyleModel",
            "_view_count": null,
            "_view_module": "@jupyter-widgets/base",
            "_view_module_version": "1.2.0",
            "_view_name": "StyleView",
            "bar_color": null,
            "description_width": ""
          }
        },
        "bc776784d59541f2be1ebc57ddf061fe": {
          "model_module": "@jupyter-widgets/base",
          "model_name": "LayoutModel",
          "model_module_version": "1.2.0",
          "state": {
            "_model_module": "@jupyter-widgets/base",
            "_model_module_version": "1.2.0",
            "_model_name": "LayoutModel",
            "_view_count": null,
            "_view_module": "@jupyter-widgets/base",
            "_view_module_version": "1.2.0",
            "_view_name": "LayoutView",
            "align_content": null,
            "align_items": null,
            "align_self": null,
            "border": null,
            "bottom": null,
            "display": null,
            "flex": null,
            "flex_flow": null,
            "grid_area": null,
            "grid_auto_columns": null,
            "grid_auto_flow": null,
            "grid_auto_rows": null,
            "grid_column": null,
            "grid_gap": null,
            "grid_row": null,
            "grid_template_areas": null,
            "grid_template_columns": null,
            "grid_template_rows": null,
            "height": null,
            "justify_content": null,
            "justify_items": null,
            "left": null,
            "margin": null,
            "max_height": null,
            "max_width": null,
            "min_height": null,
            "min_width": null,
            "object_fit": null,
            "object_position": null,
            "order": null,
            "overflow": null,
            "overflow_x": null,
            "overflow_y": null,
            "padding": null,
            "right": null,
            "top": null,
            "visibility": null,
            "width": null
          }
        },
        "40cec7d465ae402ca2a6441119631102": {
          "model_module": "@jupyter-widgets/controls",
          "model_name": "DescriptionStyleModel",
          "model_module_version": "1.5.0",
          "state": {
            "_model_module": "@jupyter-widgets/controls",
            "_model_module_version": "1.5.0",
            "_model_name": "DescriptionStyleModel",
            "_view_count": null,
            "_view_module": "@jupyter-widgets/base",
            "_view_module_version": "1.2.0",
            "_view_name": "StyleView",
            "description_width": ""
          }
        }
      }
    }
  },
  "nbformat": 4,
  "nbformat_minor": 5
}